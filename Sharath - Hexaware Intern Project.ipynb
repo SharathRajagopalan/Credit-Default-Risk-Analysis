{
 "cells": [
  {
   "cell_type": "markdown",
   "metadata": {},
   "source": [
    "---\n",
    "\n",
    "   # PROJECT: - CREDIT DEFAULT RISK ANALYSIS AND DETECTION #\n",
    "\n",
    "    \n",
    "### AUTHOR: - SHARATH RAJAGOPALAN\n",
    "    \n",
    "    \n",
    "### COMPANY: - HEXAWARE TECHNOLOGIES \n",
    "        \n",
    "        \n",
    "### POSITION: - DATA SCIENTIST INTERN\n",
    "\n",
    "---\n"
   ]
  },
  {
   "cell_type": "markdown",
   "metadata": {},
   "source": [
    "# INTRODUCTION\n",
    "\n",
    "## Data\n",
    "\n",
    "We will be using the Loan Default DataSet obtained from InstaLend.\n",
    "\n",
    "Instalend is an online loan market place who provides personal loans, business loans and vehicle loans to its customers.\n",
    "\n",
    "# PROBLEM STATEMENT\n",
    "\n",
    "#### CREDIT DEFAULT RISK ANALYSIS AND DETECTION\n",
    "\n",
    "Like most other lending companies, they need to assess the risk factor before lending to customers to minimize the source of financial loss (also called credit loss).\n",
    "\n",
    "### Our Goal\n",
    "Given the customer data we are here to build a prediction model to find whether the applicant is likely to default or not. This way in the future when we get a new potential customer we can assess whether or not they are likely to pay back the loan. \n",
    "\n",
    "\n",
    "### Data Overview: -"
   ]
  },
  {
   "cell_type": "code",
   "execution_count": 15,
   "metadata": {},
   "outputs": [],
   "source": [
    "import pandas as pd"
   ]
  },
  {
   "cell_type": "code",
   "execution_count": 16,
   "metadata": {},
   "outputs": [],
   "source": [
    "data_info = pd.read_csv('/Users/sharathrajagopalan/Desktop/Hexaware Internship/Task 2/data dictionary.csv',index_col='Features')"
   ]
  },
  {
   "cell_type": "code",
   "execution_count": 17,
   "metadata": {},
   "outputs": [
    {
     "data": {
      "text/html": [
       "<div>\n",
       "<style scoped>\n",
       "    .dataframe tbody tr th:only-of-type {\n",
       "        vertical-align: middle;\n",
       "    }\n",
       "\n",
       "    .dataframe tbody tr th {\n",
       "        vertical-align: top;\n",
       "    }\n",
       "\n",
       "    .dataframe thead th {\n",
       "        text-align: right;\n",
       "    }\n",
       "</style>\n",
       "<table border=\"1\" class=\"dataframe\">\n",
       "  <thead>\n",
       "    <tr style=\"text-align: right;\">\n",
       "      <th></th>\n",
       "      <th>Id</th>\n",
       "      <th>Description</th>\n",
       "    </tr>\n",
       "    <tr>\n",
       "      <th>Features</th>\n",
       "      <th></th>\n",
       "      <th></th>\n",
       "    </tr>\n",
       "  </thead>\n",
       "  <tbody>\n",
       "    <tr>\n",
       "      <td>cust_id</td>\n",
       "      <td>1</td>\n",
       "      <td>Unique ID of customer</td>\n",
       "    </tr>\n",
       "    <tr>\n",
       "      <td>year</td>\n",
       "      <td>2</td>\n",
       "      <td>Loan Applied Year</td>\n",
       "    </tr>\n",
       "    <tr>\n",
       "      <td>state</td>\n",
       "      <td>3</td>\n",
       "      <td>State where loan was approved</td>\n",
       "    </tr>\n",
       "    <tr>\n",
       "      <td>date_issued</td>\n",
       "      <td>4</td>\n",
       "      <td>Date when loan was issued</td>\n",
       "    </tr>\n",
       "    <tr>\n",
       "      <td>date_final</td>\n",
       "      <td>5</td>\n",
       "      <td>Final date of loan payment</td>\n",
       "    </tr>\n",
       "  </tbody>\n",
       "</table>\n",
       "</div>"
      ],
      "text/plain": [
       "             Id                    Description\n",
       "Features                                      \n",
       "cust_id       1          Unique ID of customer\n",
       "year          2              Loan Applied Year\n",
       "state         3  State where loan was approved\n",
       "date_issued   4      Date when loan was issued\n",
       "date_final    5     Final date of loan payment"
      ]
     },
     "execution_count": 17,
     "metadata": {},
     "output_type": "execute_result"
    }
   ],
   "source": [
    "data_info.head()"
   ]
  },
  {
   "cell_type": "code",
   "execution_count": 18,
   "metadata": {},
   "outputs": [
    {
     "name": "stdout",
     "output_type": "stream",
     "text": [
      "Debt-to-Income(DTI) is the percentage of a consumer's monthly gross income that goes toward paying debts.\n"
     ]
    }
   ],
   "source": [
    "print(data_info.loc['dti']['Description'])"
   ]
  },
  {
   "cell_type": "code",
   "execution_count": 19,
   "metadata": {},
   "outputs": [],
   "source": [
    "def feat_info(col_name):\n",
    "    print(data_info.loc[col_name]['Description'])"
   ]
  },
  {
   "cell_type": "code",
   "execution_count": 20,
   "metadata": {},
   "outputs": [
    {
     "name": "stdout",
     "output_type": "stream",
     "text": [
      "A status provided by the borrower during registration. Possible values are MORTGAGE, OTHER, NONE, ANY, RENT, OWN\n"
     ]
    }
   ],
   "source": [
    "feat_info('own_type')"
   ]
  },
  {
   "cell_type": "markdown",
   "metadata": {},
   "source": [
    "# INSTALLING LIBRARIES: -"
   ]
  },
  {
   "cell_type": "code",
   "execution_count": 21,
   "metadata": {},
   "outputs": [],
   "source": [
    "import pandas as pd\n",
    "import numpy as np\n",
    "import matplotlib.pyplot as plt\n",
    "import seaborn as sns\n",
    "\n",
    "# might be needed depending on your version of Jupyter\n",
    "%matplotlib inline"
   ]
  },
  {
   "cell_type": "code",
   "execution_count": 22,
   "metadata": {},
   "outputs": [],
   "source": [
    "df = pd.read_csv('/Users/sharathrajagopalan/Desktop/Hexaware Internship/Task 2/LoanDefaultData.csv')"
   ]
  },
  {
   "cell_type": "code",
   "execution_count": 23,
   "metadata": {},
   "outputs": [
    {
     "name": "stdout",
     "output_type": "stream",
     "text": [
      "<class 'pandas.core.frame.DataFrame'>\n",
      "RangeIndex: 887379 entries, 0 to 887378\n",
      "Data columns (total 22 columns):\n",
      "cust_id              887379 non-null int64\n",
      "year                 887379 non-null int64\n",
      "state                887379 non-null object\n",
      "date_issued          887379 non-null object\n",
      "date_final           887379 non-null int64\n",
      "emp_duration         887379 non-null float64\n",
      "own_type             887379 non-null object\n",
      "income_type          887379 non-null object\n",
      "app_type             887379 non-null object\n",
      "loan_purpose         887379 non-null object\n",
      "interest_payments    887379 non-null object\n",
      "grade                887379 non-null object\n",
      "annual_pay           887379 non-null int64\n",
      "loan_amount          887379 non-null int64\n",
      "interest_rate        887379 non-null float64\n",
      "loan_duration        887379 non-null object\n",
      "dti                  887379 non-null float64\n",
      "total_pymnt          887379 non-null float64\n",
      "total_rec_prncp      887379 non-null float64\n",
      "recoveries           887379 non-null float64\n",
      "installment          887379 non-null float64\n",
      "is_default           887379 non-null int64\n",
      "dtypes: float64(7), int64(6), object(9)\n",
      "memory usage: 148.9+ MB\n"
     ]
    }
   ],
   "source": [
    "df.info()"
   ]
  },
  {
   "cell_type": "code",
   "execution_count": 24,
   "metadata": {},
   "outputs": [
    {
     "data": {
      "text/html": [
       "<div>\n",
       "<style scoped>\n",
       "    .dataframe tbody tr th:only-of-type {\n",
       "        vertical-align: middle;\n",
       "    }\n",
       "\n",
       "    .dataframe tbody tr th {\n",
       "        vertical-align: top;\n",
       "    }\n",
       "\n",
       "    .dataframe thead th {\n",
       "        text-align: right;\n",
       "    }\n",
       "</style>\n",
       "<table border=\"1\" class=\"dataframe\">\n",
       "  <thead>\n",
       "    <tr style=\"text-align: right;\">\n",
       "      <th></th>\n",
       "      <th>cust_id</th>\n",
       "      <th>year</th>\n",
       "      <th>state</th>\n",
       "      <th>date_issued</th>\n",
       "      <th>date_final</th>\n",
       "      <th>emp_duration</th>\n",
       "      <th>own_type</th>\n",
       "      <th>income_type</th>\n",
       "      <th>app_type</th>\n",
       "      <th>loan_purpose</th>\n",
       "      <th>...</th>\n",
       "      <th>annual_pay</th>\n",
       "      <th>loan_amount</th>\n",
       "      <th>interest_rate</th>\n",
       "      <th>loan_duration</th>\n",
       "      <th>dti</th>\n",
       "      <th>total_pymnt</th>\n",
       "      <th>total_rec_prncp</th>\n",
       "      <th>recoveries</th>\n",
       "      <th>installment</th>\n",
       "      <th>is_default</th>\n",
       "    </tr>\n",
       "  </thead>\n",
       "  <tbody>\n",
       "    <tr>\n",
       "      <td>0</td>\n",
       "      <td>180675</td>\n",
       "      <td>2007</td>\n",
       "      <td>Andhra Pradesh</td>\n",
       "      <td>01/12/2007</td>\n",
       "      <td>1032009</td>\n",
       "      <td>10.0</td>\n",
       "      <td>MORTGAGE</td>\n",
       "      <td>Low</td>\n",
       "      <td>INDIVIDUAL</td>\n",
       "      <td>debt_consolidation</td>\n",
       "      <td>...</td>\n",
       "      <td>73000</td>\n",
       "      <td>25000</td>\n",
       "      <td>10.91</td>\n",
       "      <td>36 months</td>\n",
       "      <td>22.13</td>\n",
       "      <td>13650.38</td>\n",
       "      <td>8767.32</td>\n",
       "      <td>2207.65</td>\n",
       "      <td>817.41</td>\n",
       "      <td>1</td>\n",
       "    </tr>\n",
       "    <tr>\n",
       "      <td>1</td>\n",
       "      <td>85781</td>\n",
       "      <td>2007</td>\n",
       "      <td>Rajasthan</td>\n",
       "      <td>01/06/2007</td>\n",
       "      <td>1072010</td>\n",
       "      <td>0.5</td>\n",
       "      <td>RENT</td>\n",
       "      <td>Low</td>\n",
       "      <td>INDIVIDUAL</td>\n",
       "      <td>other</td>\n",
       "      <td>...</td>\n",
       "      <td>40000</td>\n",
       "      <td>1400</td>\n",
       "      <td>10.91</td>\n",
       "      <td>36 months</td>\n",
       "      <td>8.61</td>\n",
       "      <td>1663.04</td>\n",
       "      <td>1400.00</td>\n",
       "      <td>0.00</td>\n",
       "      <td>45.78</td>\n",
       "      <td>0</td>\n",
       "    </tr>\n",
       "    <tr>\n",
       "      <td>2</td>\n",
       "      <td>85675</td>\n",
       "      <td>2007</td>\n",
       "      <td>Manipur</td>\n",
       "      <td>01/06/2007</td>\n",
       "      <td>1062010</td>\n",
       "      <td>10.0</td>\n",
       "      <td>RENT</td>\n",
       "      <td>Low</td>\n",
       "      <td>INDIVIDUAL</td>\n",
       "      <td>other</td>\n",
       "      <td>...</td>\n",
       "      <td>25000</td>\n",
       "      <td>1000</td>\n",
       "      <td>14.07</td>\n",
       "      <td>36 months</td>\n",
       "      <td>16.27</td>\n",
       "      <td>1231.38</td>\n",
       "      <td>1000.00</td>\n",
       "      <td>0.00</td>\n",
       "      <td>34.21</td>\n",
       "      <td>0</td>\n",
       "    </tr>\n",
       "    <tr>\n",
       "      <td>3</td>\n",
       "      <td>84918</td>\n",
       "      <td>2007</td>\n",
       "      <td>Andhra Pradesh</td>\n",
       "      <td>01/09/2007</td>\n",
       "      <td>1042008</td>\n",
       "      <td>10.0</td>\n",
       "      <td>MORTGAGE</td>\n",
       "      <td>Low</td>\n",
       "      <td>INDIVIDUAL</td>\n",
       "      <td>other</td>\n",
       "      <td>...</td>\n",
       "      <td>65000</td>\n",
       "      <td>5000</td>\n",
       "      <td>7.43</td>\n",
       "      <td>36 months</td>\n",
       "      <td>0.28</td>\n",
       "      <td>5200.44</td>\n",
       "      <td>5000.00</td>\n",
       "      <td>0.00</td>\n",
       "      <td>155.38</td>\n",
       "      <td>0</td>\n",
       "    </tr>\n",
       "    <tr>\n",
       "      <td>4</td>\n",
       "      <td>84670</td>\n",
       "      <td>2007</td>\n",
       "      <td>Arunachal Pradesh</td>\n",
       "      <td>01/06/2007</td>\n",
       "      <td>1082009</td>\n",
       "      <td>10.0</td>\n",
       "      <td>MORTGAGE</td>\n",
       "      <td>High</td>\n",
       "      <td>INDIVIDUAL</td>\n",
       "      <td>other</td>\n",
       "      <td>...</td>\n",
       "      <td>300000</td>\n",
       "      <td>5000</td>\n",
       "      <td>7.75</td>\n",
       "      <td>36 months</td>\n",
       "      <td>5.38</td>\n",
       "      <td>5565.65</td>\n",
       "      <td>5000.00</td>\n",
       "      <td>0.00</td>\n",
       "      <td>156.11</td>\n",
       "      <td>0</td>\n",
       "    </tr>\n",
       "    <tr>\n",
       "      <td>5</td>\n",
       "      <td>84098</td>\n",
       "      <td>2007</td>\n",
       "      <td>Chhattisgarh</td>\n",
       "      <td>01/06/2007</td>\n",
       "      <td>1012008</td>\n",
       "      <td>9.0</td>\n",
       "      <td>MORTGAGE</td>\n",
       "      <td>Low</td>\n",
       "      <td>INDIVIDUAL</td>\n",
       "      <td>other</td>\n",
       "      <td>...</td>\n",
       "      <td>66624</td>\n",
       "      <td>2500</td>\n",
       "      <td>7.43</td>\n",
       "      <td>36 months</td>\n",
       "      <td>10.36</td>\n",
       "      <td>2600.23</td>\n",
       "      <td>2500.00</td>\n",
       "      <td>0.00</td>\n",
       "      <td>77.69</td>\n",
       "      <td>0</td>\n",
       "    </tr>\n",
       "    <tr>\n",
       "      <td>6</td>\n",
       "      <td>83979</td>\n",
       "      <td>2007</td>\n",
       "      <td>Mizoram</td>\n",
       "      <td>01/06/2007</td>\n",
       "      <td>1012008</td>\n",
       "      <td>1.0</td>\n",
       "      <td>MORTGAGE</td>\n",
       "      <td>Low</td>\n",
       "      <td>INDIVIDUAL</td>\n",
       "      <td>other</td>\n",
       "      <td>...</td>\n",
       "      <td>80000</td>\n",
       "      <td>3000</td>\n",
       "      <td>7.43</td>\n",
       "      <td>36 months</td>\n",
       "      <td>0.39</td>\n",
       "      <td>3120.26</td>\n",
       "      <td>3000.00</td>\n",
       "      <td>0.00</td>\n",
       "      <td>93.23</td>\n",
       "      <td>0</td>\n",
       "    </tr>\n",
       "    <tr>\n",
       "      <td>7</td>\n",
       "      <td>85818</td>\n",
       "      <td>2007</td>\n",
       "      <td>Gujarat</td>\n",
       "      <td>01/06/2007</td>\n",
       "      <td>1042010</td>\n",
       "      <td>0.5</td>\n",
       "      <td>RENT</td>\n",
       "      <td>Low</td>\n",
       "      <td>INDIVIDUAL</td>\n",
       "      <td>other</td>\n",
       "      <td>...</td>\n",
       "      <td>28000</td>\n",
       "      <td>5000</td>\n",
       "      <td>11.22</td>\n",
       "      <td>36 months</td>\n",
       "      <td>3.51</td>\n",
       "      <td>5858.35</td>\n",
       "      <td>5000.00</td>\n",
       "      <td>0.00</td>\n",
       "      <td>164.23</td>\n",
       "      <td>0</td>\n",
       "    </tr>\n",
       "    <tr>\n",
       "      <td>8</td>\n",
       "      <td>83489</td>\n",
       "      <td>2007</td>\n",
       "      <td>Tripura</td>\n",
       "      <td>01/06/2007</td>\n",
       "      <td>1032010</td>\n",
       "      <td>3.0</td>\n",
       "      <td>MORTGAGE</td>\n",
       "      <td>Low</td>\n",
       "      <td>INDIVIDUAL</td>\n",
       "      <td>other</td>\n",
       "      <td>...</td>\n",
       "      <td>6500</td>\n",
       "      <td>2600</td>\n",
       "      <td>8.38</td>\n",
       "      <td>36 months</td>\n",
       "      <td>6.46</td>\n",
       "      <td>2342.01</td>\n",
       "      <td>1962.69</td>\n",
       "      <td>28.63</td>\n",
       "      <td>81.94</td>\n",
       "      <td>1</td>\n",
       "    </tr>\n",
       "    <tr>\n",
       "      <td>9</td>\n",
       "      <td>81085</td>\n",
       "      <td>2007</td>\n",
       "      <td>Haryana</td>\n",
       "      <td>01/06/2007</td>\n",
       "      <td>1082008</td>\n",
       "      <td>3.0</td>\n",
       "      <td>RENT</td>\n",
       "      <td>Low</td>\n",
       "      <td>INDIVIDUAL</td>\n",
       "      <td>other</td>\n",
       "      <td>...</td>\n",
       "      <td>60000</td>\n",
       "      <td>10500</td>\n",
       "      <td>11.22</td>\n",
       "      <td>36 months</td>\n",
       "      <td>19.50</td>\n",
       "      <td>11219.80</td>\n",
       "      <td>10500.00</td>\n",
       "      <td>0.00</td>\n",
       "      <td>344.87</td>\n",
       "      <td>0</td>\n",
       "    </tr>\n",
       "  </tbody>\n",
       "</table>\n",
       "<p>10 rows × 22 columns</p>\n",
       "</div>"
      ],
      "text/plain": [
       "   cust_id  year              state date_issued  date_final  emp_duration  \\\n",
       "0   180675  2007     Andhra Pradesh  01/12/2007     1032009          10.0   \n",
       "1    85781  2007          Rajasthan  01/06/2007     1072010           0.5   \n",
       "2    85675  2007            Manipur  01/06/2007     1062010          10.0   \n",
       "3    84918  2007     Andhra Pradesh  01/09/2007     1042008          10.0   \n",
       "4    84670  2007  Arunachal Pradesh  01/06/2007     1082009          10.0   \n",
       "5    84098  2007       Chhattisgarh  01/06/2007     1012008           9.0   \n",
       "6    83979  2007            Mizoram  01/06/2007     1012008           1.0   \n",
       "7    85818  2007            Gujarat  01/06/2007     1042010           0.5   \n",
       "8    83489  2007            Tripura  01/06/2007     1032010           3.0   \n",
       "9    81085  2007            Haryana  01/06/2007     1082008           3.0   \n",
       "\n",
       "   own_type income_type    app_type        loan_purpose  ... annual_pay  \\\n",
       "0  MORTGAGE         Low  INDIVIDUAL  debt_consolidation  ...      73000   \n",
       "1      RENT         Low  INDIVIDUAL               other  ...      40000   \n",
       "2      RENT         Low  INDIVIDUAL               other  ...      25000   \n",
       "3  MORTGAGE         Low  INDIVIDUAL               other  ...      65000   \n",
       "4  MORTGAGE        High  INDIVIDUAL               other  ...     300000   \n",
       "5  MORTGAGE         Low  INDIVIDUAL               other  ...      66624   \n",
       "6  MORTGAGE         Low  INDIVIDUAL               other  ...      80000   \n",
       "7      RENT         Low  INDIVIDUAL               other  ...      28000   \n",
       "8  MORTGAGE         Low  INDIVIDUAL               other  ...       6500   \n",
       "9      RENT         Low  INDIVIDUAL               other  ...      60000   \n",
       "\n",
       "  loan_amount  interest_rate  loan_duration    dti total_pymnt  \\\n",
       "0       25000          10.91      36 months  22.13    13650.38   \n",
       "1        1400          10.91      36 months   8.61     1663.04   \n",
       "2        1000          14.07      36 months  16.27     1231.38   \n",
       "3        5000           7.43      36 months   0.28     5200.44   \n",
       "4        5000           7.75      36 months   5.38     5565.65   \n",
       "5        2500           7.43      36 months  10.36     2600.23   \n",
       "6        3000           7.43      36 months   0.39     3120.26   \n",
       "7        5000          11.22      36 months   3.51     5858.35   \n",
       "8        2600           8.38      36 months   6.46     2342.01   \n",
       "9       10500          11.22      36 months  19.50    11219.80   \n",
       "\n",
       "   total_rec_prncp  recoveries  installment  is_default  \n",
       "0          8767.32     2207.65       817.41           1  \n",
       "1          1400.00        0.00        45.78           0  \n",
       "2          1000.00        0.00        34.21           0  \n",
       "3          5000.00        0.00       155.38           0  \n",
       "4          5000.00        0.00       156.11           0  \n",
       "5          2500.00        0.00        77.69           0  \n",
       "6          3000.00        0.00        93.23           0  \n",
       "7          5000.00        0.00       164.23           0  \n",
       "8          1962.69       28.63        81.94           1  \n",
       "9         10500.00        0.00       344.87           0  \n",
       "\n",
       "[10 rows x 22 columns]"
      ]
     },
     "execution_count": 24,
     "metadata": {},
     "output_type": "execute_result"
    }
   ],
   "source": [
    "df.head(10)"
   ]
  },
  {
   "cell_type": "markdown",
   "metadata": {},
   "source": [
    "---\n",
    "\n",
    "\n",
    "# EXPLORATORY DATA ANALYSIS: -"
   ]
  },
  {
   "cell_type": "code",
   "execution_count": 25,
   "metadata": {},
   "outputs": [
    {
     "data": {
      "text/plain": [
       "<matplotlib.axes._subplots.AxesSubplot at 0x11e69c450>"
      ]
     },
     "execution_count": 25,
     "metadata": {},
     "output_type": "execute_result"
    },
    {
     "data": {
      "image/png": "[encoded data removed]",
      "text/plain": [
       "<Figure size 432x288 with 1 Axes>"
      ]
     },
     "metadata": {
      "needs_background": "light"
     },
     "output_type": "display_data"
    }
   ],
   "source": [
    "sns.countplot(x='is_default',data=df)"
   ]
  },
  {
   "cell_type": "markdown",
   "metadata": {},
   "source": [
    "### From the above bar graph we can infer that this is an unbalanced data."
   ]
  },
  {
   "cell_type": "code",
   "execution_count": 26,
   "metadata": {},
   "outputs": [
    {
     "data": {
      "text/plain": [
       "(0, 45000)"
      ]
     },
     "execution_count": 26,
     "metadata": {},
     "output_type": "execute_result"
    },
    {
     "data": {
      "image/png": "[encoded data removed]",
      "text/plain": [
       "<Figure size 864x288 with 1 Axes>"
      ]
     },
     "metadata": {
      "needs_background": "light"
     },
     "output_type": "display_data"
    }
   ],
   "source": [
    "plt.figure(figsize=(12,4))\n",
    "sns.distplot(df['loan_amount'],kde=False,bins=40)\n",
    "plt.xlim(0,45000)"
   ]
  },
  {
   "cell_type": "code",
   "execution_count": 27,
   "metadata": {},
   "outputs": [
    {
     "data": {
      "text/html": [
       "<div>\n",
       "<style scoped>\n",
       "    .dataframe tbody tr th:only-of-type {\n",
       "        vertical-align: middle;\n",
       "    }\n",
       "\n",
       "    .dataframe tbody tr th {\n",
       "        vertical-align: top;\n",
       "    }\n",
       "\n",
       "    .dataframe thead th {\n",
       "        text-align: right;\n",
       "    }\n",
       "</style>\n",
       "<table border=\"1\" class=\"dataframe\">\n",
       "  <thead>\n",
       "    <tr style=\"text-align: right;\">\n",
       "      <th></th>\n",
       "      <th>cust_id</th>\n",
       "      <th>year</th>\n",
       "      <th>date_final</th>\n",
       "      <th>emp_duration</th>\n",
       "      <th>annual_pay</th>\n",
       "      <th>loan_amount</th>\n",
       "      <th>interest_rate</th>\n",
       "      <th>dti</th>\n",
       "      <th>total_pymnt</th>\n",
       "      <th>total_rec_prncp</th>\n",
       "      <th>recoveries</th>\n",
       "      <th>installment</th>\n",
       "      <th>is_default</th>\n",
       "    </tr>\n",
       "  </thead>\n",
       "  <tbody>\n",
       "    <tr>\n",
       "      <td>cust_id</td>\n",
       "      <td>1.000000</td>\n",
       "      <td>0.820601</td>\n",
       "      <td>-0.199171</td>\n",
       "      <td>0.012529</td>\n",
       "      <td>0.033990</td>\n",
       "      <td>0.063803</td>\n",
       "      <td>-0.142963</td>\n",
       "      <td>0.067781</td>\n",
       "      <td>-0.597261</td>\n",
       "      <td>-0.556328</td>\n",
       "      <td>-0.114386</td>\n",
       "      <td>0.025347</td>\n",
       "      <td>-0.190691</td>\n",
       "    </tr>\n",
       "    <tr>\n",
       "      <td>year</td>\n",
       "      <td>0.820601</td>\n",
       "      <td>1.000000</td>\n",
       "      <td>-0.184786</td>\n",
       "      <td>0.048980</td>\n",
       "      <td>0.035911</td>\n",
       "      <td>0.103722</td>\n",
       "      <td>-0.063632</td>\n",
       "      <td>0.078530</td>\n",
       "      <td>-0.464010</td>\n",
       "      <td>-0.443454</td>\n",
       "      <td>-0.100694</td>\n",
       "      <td>0.075157</td>\n",
       "      <td>-0.165122</td>\n",
       "    </tr>\n",
       "    <tr>\n",
       "      <td>date_final</td>\n",
       "      <td>-0.199171</td>\n",
       "      <td>-0.184786</td>\n",
       "      <td>1.000000</td>\n",
       "      <td>-0.008798</td>\n",
       "      <td>-0.013948</td>\n",
       "      <td>-0.023783</td>\n",
       "      <td>0.049275</td>\n",
       "      <td>-0.017203</td>\n",
       "      <td>0.180982</td>\n",
       "      <td>0.199173</td>\n",
       "      <td>0.041700</td>\n",
       "      <td>-0.008882</td>\n",
       "      <td>0.178373</td>\n",
       "    </tr>\n",
       "    <tr>\n",
       "      <td>emp_duration</td>\n",
       "      <td>0.012529</td>\n",
       "      <td>0.048980</td>\n",
       "      <td>-0.008798</td>\n",
       "      <td>1.000000</td>\n",
       "      <td>0.063382</td>\n",
       "      <td>0.103898</td>\n",
       "      <td>0.008943</td>\n",
       "      <td>0.020660</td>\n",
       "      <td>0.049354</td>\n",
       "      <td>0.036753</td>\n",
       "      <td>0.004163</td>\n",
       "      <td>0.088634</td>\n",
       "      <td>-0.015821</td>\n",
       "    </tr>\n",
       "    <tr>\n",
       "      <td>annual_pay</td>\n",
       "      <td>0.033990</td>\n",
       "      <td>0.035911</td>\n",
       "      <td>-0.013948</td>\n",
       "      <td>0.063382</td>\n",
       "      <td>1.000000</td>\n",
       "      <td>0.332697</td>\n",
       "      <td>-0.072785</td>\n",
       "      <td>-0.087409</td>\n",
       "      <td>0.160879</td>\n",
       "      <td>0.149993</td>\n",
       "      <td>0.007717</td>\n",
       "      <td>0.326181</td>\n",
       "      <td>-0.034142</td>\n",
       "    </tr>\n",
       "    <tr>\n",
       "      <td>loan_amount</td>\n",
       "      <td>0.063803</td>\n",
       "      <td>0.103722</td>\n",
       "      <td>-0.023783</td>\n",
       "      <td>0.103898</td>\n",
       "      <td>0.332697</td>\n",
       "      <td>1.000000</td>\n",
       "      <td>0.145023</td>\n",
       "      <td>0.020675</td>\n",
       "      <td>0.474626</td>\n",
       "      <td>0.390473</td>\n",
       "      <td>0.073150</td>\n",
       "      <td>0.944977</td>\n",
       "      <td>0.003512</td>\n",
       "    </tr>\n",
       "    <tr>\n",
       "      <td>interest_rate</td>\n",
       "      <td>-0.142963</td>\n",
       "      <td>-0.063632</td>\n",
       "      <td>0.049275</td>\n",
       "      <td>0.008943</td>\n",
       "      <td>-0.072785</td>\n",
       "      <td>0.145023</td>\n",
       "      <td>1.000000</td>\n",
       "      <td>0.079903</td>\n",
       "      <td>0.170506</td>\n",
       "      <td>0.054975</td>\n",
       "      <td>0.106840</td>\n",
       "      <td>0.133075</td>\n",
       "      <td>0.175450</td>\n",
       "    </tr>\n",
       "    <tr>\n",
       "      <td>dti</td>\n",
       "      <td>0.067781</td>\n",
       "      <td>0.078530</td>\n",
       "      <td>-0.017203</td>\n",
       "      <td>0.020660</td>\n",
       "      <td>-0.087409</td>\n",
       "      <td>0.020675</td>\n",
       "      <td>0.079903</td>\n",
       "      <td>1.000000</td>\n",
       "      <td>-0.041529</td>\n",
       "      <td>-0.052056</td>\n",
       "      <td>0.001162</td>\n",
       "      <td>0.014333</td>\n",
       "      <td>0.009961</td>\n",
       "    </tr>\n",
       "    <tr>\n",
       "      <td>total_pymnt</td>\n",
       "      <td>-0.597261</td>\n",
       "      <td>-0.464010</td>\n",
       "      <td>0.180982</td>\n",
       "      <td>0.049354</td>\n",
       "      <td>0.160879</td>\n",
       "      <td>0.474626</td>\n",
       "      <td>0.170506</td>\n",
       "      <td>-0.041529</td>\n",
       "      <td>1.000000</td>\n",
       "      <td>0.970043</td>\n",
       "      <td>0.038361</td>\n",
       "      <td>0.514954</td>\n",
       "      <td>-0.042515</td>\n",
       "    </tr>\n",
       "    <tr>\n",
       "      <td>total_rec_prncp</td>\n",
       "      <td>-0.556328</td>\n",
       "      <td>-0.443454</td>\n",
       "      <td>0.199173</td>\n",
       "      <td>0.036753</td>\n",
       "      <td>0.149993</td>\n",
       "      <td>0.390473</td>\n",
       "      <td>0.054975</td>\n",
       "      <td>-0.052056</td>\n",
       "      <td>0.970043</td>\n",
       "      <td>1.000000</td>\n",
       "      <td>-0.037742</td>\n",
       "      <td>0.449439</td>\n",
       "      <td>-0.095991</td>\n",
       "    </tr>\n",
       "    <tr>\n",
       "      <td>recoveries</td>\n",
       "      <td>-0.114386</td>\n",
       "      <td>-0.100694</td>\n",
       "      <td>0.041700</td>\n",
       "      <td>0.004163</td>\n",
       "      <td>0.007717</td>\n",
       "      <td>0.073150</td>\n",
       "      <td>0.106840</td>\n",
       "      <td>0.001162</td>\n",
       "      <td>0.038361</td>\n",
       "      <td>-0.037742</td>\n",
       "      <td>1.000000</td>\n",
       "      <td>0.074546</td>\n",
       "      <td>0.390846</td>\n",
       "    </tr>\n",
       "    <tr>\n",
       "      <td>installment</td>\n",
       "      <td>0.025347</td>\n",
       "      <td>0.075157</td>\n",
       "      <td>-0.008882</td>\n",
       "      <td>0.088634</td>\n",
       "      <td>0.326181</td>\n",
       "      <td>0.944977</td>\n",
       "      <td>0.133075</td>\n",
       "      <td>0.014333</td>\n",
       "      <td>0.514954</td>\n",
       "      <td>0.449439</td>\n",
       "      <td>0.074546</td>\n",
       "      <td>1.000000</td>\n",
       "      <td>0.014124</td>\n",
       "    </tr>\n",
       "    <tr>\n",
       "      <td>is_default</td>\n",
       "      <td>-0.190691</td>\n",
       "      <td>-0.165122</td>\n",
       "      <td>0.178373</td>\n",
       "      <td>-0.015821</td>\n",
       "      <td>-0.034142</td>\n",
       "      <td>0.003512</td>\n",
       "      <td>0.175450</td>\n",
       "      <td>0.009961</td>\n",
       "      <td>-0.042515</td>\n",
       "      <td>-0.095991</td>\n",
       "      <td>0.390846</td>\n",
       "      <td>0.014124</td>\n",
       "      <td>1.000000</td>\n",
       "    </tr>\n",
       "  </tbody>\n",
       "</table>\n",
       "</div>"
      ],
      "text/plain": [
       "                  cust_id      year  date_final  emp_duration  annual_pay  \\\n",
       "cust_id          1.000000  0.820601   -0.199171      0.012529    0.033990   \n",
       "year             0.820601  1.000000   -0.184786      0.048980    0.035911   \n",
       "date_final      -0.199171 -0.184786    1.000000     -0.008798   -0.013948   \n",
       "emp_duration     0.012529  0.048980   -0.008798      1.000000    0.063382   \n",
       "annual_pay       0.033990  0.035911   -0.013948      0.063382    1.000000   \n",
       "loan_amount      0.063803  0.103722   -0.023783      0.103898    0.332697   \n",
       "interest_rate   -0.142963 -0.063632    0.049275      0.008943   -0.072785   \n",
       "dti              0.067781  0.078530   -0.017203      0.020660   -0.087409   \n",
       "total_pymnt     -0.597261 -0.464010    0.180982      0.049354    0.160879   \n",
       "total_rec_prncp -0.556328 -0.443454    0.199173      0.036753    0.149993   \n",
       "recoveries      -0.114386 -0.100694    0.041700      0.004163    0.007717   \n",
       "installment      0.025347  0.075157   -0.008882      0.088634    0.326181   \n",
       "is_default      -0.190691 -0.165122    0.178373     -0.015821   -0.034142   \n",
       "\n",
       "                 loan_amount  interest_rate       dti  total_pymnt  \\\n",
       "cust_id             0.063803      -0.142963  0.067781    -0.597261   \n",
       "year                0.103722      -0.063632  0.078530    -0.464010   \n",
       "date_final         -0.023783       0.049275 -0.017203     0.180982   \n",
       "emp_duration        0.103898       0.008943  0.020660     0.049354   \n",
       "annual_pay          0.332697      -0.072785 -0.087409     0.160879   \n",
       "loan_amount         1.000000       0.145023  0.020675     0.474626   \n",
       "interest_rate       0.145023       1.000000  0.079903     0.170506   \n",
       "dti                 0.020675       0.079903  1.000000    -0.041529   \n",
       "total_pymnt         0.474626       0.170506 -0.041529     1.000000   \n",
       "total_rec_prncp     0.390473       0.054975 -0.052056     0.970043   \n",
       "recoveries          0.073150       0.106840  0.001162     0.038361   \n",
       "installment         0.944977       0.133075  0.014333     0.514954   \n",
       "is_default          0.003512       0.175450  0.009961    -0.042515   \n",
       "\n",
       "                 total_rec_prncp  recoveries  installment  is_default  \n",
       "cust_id                -0.556328   -0.114386     0.025347   -0.190691  \n",
       "year                   -0.443454   -0.100694     0.075157   -0.165122  \n",
       "date_final              0.199173    0.041700    -0.008882    0.178373  \n",
       "emp_duration            0.036753    0.004163     0.088634   -0.015821  \n",
       "annual_pay              0.149993    0.007717     0.326181   -0.034142  \n",
       "loan_amount             0.390473    0.073150     0.944977    0.003512  \n",
       "interest_rate           0.054975    0.106840     0.133075    0.175450  \n",
       "dti                    -0.052056    0.001162     0.014333    0.009961  \n",
       "total_pymnt             0.970043    0.038361     0.514954   -0.042515  \n",
       "total_rec_prncp         1.000000   -0.037742     0.449439   -0.095991  \n",
       "recoveries             -0.037742    1.000000     0.074546    0.390846  \n",
       "installment             0.449439    0.074546     1.000000    0.014124  \n",
       "is_default             -0.095991    0.390846     0.014124    1.000000  "
      ]
     },
     "execution_count": 27,
     "metadata": {},
     "output_type": "execute_result"
    }
   ],
   "source": [
    "df.corr()"
   ]
  },
  {
   "cell_type": "code",
   "execution_count": 28,
   "metadata": {},
   "outputs": [
    {
     "data": {
      "text/plain": [
       "(10, 0)"
      ]
     },
     "execution_count": 28,
     "metadata": {},
     "output_type": "execute_result"
    },
    {
     "data": {
      "image/png": "[encoded data removed]",
      "text/plain": [
       "<Figure size 864x504 with 2 Axes>"
      ]
     },
     "metadata": {
      "needs_background": "light"
     },
     "output_type": "display_data"
    }
   ],
   "source": [
    "plt.figure(figsize=(12,7))\n",
    "sns.heatmap(df.corr(),annot=True,cmap='viridis')\n",
    "plt.ylim(10, 0)"
   ]
  },
  {
   "cell_type": "markdown",
   "metadata": {},
   "source": [
    "#### NOTE: - The loan amount feature has 0.94 correlation with the installment feature."
   ]
  },
  {
   "cell_type": "code",
   "execution_count": 29,
   "metadata": {},
   "outputs": [
    {
     "name": "stdout",
     "output_type": "stream",
     "text": [
      "Monthly payment owed by the borrower\n"
     ]
    }
   ],
   "source": [
    "feat_info('installment')"
   ]
  },
  {
   "cell_type": "code",
   "execution_count": 30,
   "metadata": {},
   "outputs": [
    {
     "name": "stdout",
     "output_type": "stream",
     "text": [
      "Loan amount required by the customer\n"
     ]
    }
   ],
   "source": [
    "feat_info('loan_amount')"
   ]
  },
  {
   "cell_type": "code",
   "execution_count": 31,
   "metadata": {},
   "outputs": [
    {
     "data": {
      "text/plain": [
       "<matplotlib.axes._subplots.AxesSubplot at 0x11db11ad0>"
      ]
     },
     "execution_count": 31,
     "metadata": {},
     "output_type": "execute_result"
    },
    {
     "data": {
      "image/png": "[encoded data removed]",
      "text/plain": [
       "<Figure size 432x288 with 1 Axes>"
      ]
     },
     "metadata": {
      "needs_background": "light"
     },
     "output_type": "display_data"
    }
   ],
   "source": [
    "sns.scatterplot(x='installment',y='loan_amount',data=df)"
   ]
  },
  {
   "cell_type": "code",
   "execution_count": 32,
   "metadata": {},
   "outputs": [
    {
     "data": {
      "text/plain": [
       "<matplotlib.axes._subplots.AxesSubplot at 0x102307e90>"
      ]
     },
     "execution_count": 32,
     "metadata": {},
     "output_type": "execute_result"
    },
    {
     "data": {
      "image/png": "[encoded data removed]",
      "text/plain": [
       "<Figure size 432x288 with 1 Axes>"
      ]
     },
     "metadata": {
      "needs_background": "light"
     },
     "output_type": "display_data"
    }
   ],
   "source": [
    "sns.boxplot(x='is_default',y='loan_amount',data=df)"
   ]
  },
  {
   "cell_type": "markdown",
   "metadata": {},
   "source": [
    "#### 0 stands for not defaulted and 1 stands for defaulted"
   ]
  },
  {
   "cell_type": "code",
   "execution_count": 33,
   "metadata": {},
   "outputs": [
    {
     "data": {
      "text/html": [
       "<div>\n",
       "<style scoped>\n",
       "    .dataframe tbody tr th:only-of-type {\n",
       "        vertical-align: middle;\n",
       "    }\n",
       "\n",
       "    .dataframe tbody tr th {\n",
       "        vertical-align: top;\n",
       "    }\n",
       "\n",
       "    .dataframe thead th {\n",
       "        text-align: right;\n",
       "    }\n",
       "</style>\n",
       "<table border=\"1\" class=\"dataframe\">\n",
       "  <thead>\n",
       "    <tr style=\"text-align: right;\">\n",
       "      <th></th>\n",
       "      <th>count</th>\n",
       "      <th>mean</th>\n",
       "      <th>std</th>\n",
       "      <th>min</th>\n",
       "      <th>25%</th>\n",
       "      <th>50%</th>\n",
       "      <th>75%</th>\n",
       "      <th>max</th>\n",
       "    </tr>\n",
       "    <tr>\n",
       "      <th>is_default</th>\n",
       "      <th></th>\n",
       "      <th></th>\n",
       "      <th></th>\n",
       "      <th></th>\n",
       "      <th></th>\n",
       "      <th></th>\n",
       "      <th></th>\n",
       "      <th></th>\n",
       "    </tr>\n",
       "  </thead>\n",
       "  <tbody>\n",
       "    <tr>\n",
       "      <td>0</td>\n",
       "      <td>819950.0</td>\n",
       "      <td>14746.769651</td>\n",
       "      <td>8432.461686</td>\n",
       "      <td>500.0</td>\n",
       "      <td>8000.0</td>\n",
       "      <td>13000.0</td>\n",
       "      <td>20000.0</td>\n",
       "      <td>35000.0</td>\n",
       "    </tr>\n",
       "    <tr>\n",
       "      <td>1</td>\n",
       "      <td>67429.0</td>\n",
       "      <td>14858.564935</td>\n",
       "      <td>8471.158706</td>\n",
       "      <td>500.0</td>\n",
       "      <td>8325.0</td>\n",
       "      <td>13175.0</td>\n",
       "      <td>20000.0</td>\n",
       "      <td>35000.0</td>\n",
       "    </tr>\n",
       "  </tbody>\n",
       "</table>\n",
       "</div>"
      ],
      "text/plain": [
       "               count          mean          std    min     25%      50%  \\\n",
       "is_default                                                                \n",
       "0           819950.0  14746.769651  8432.461686  500.0  8000.0  13000.0   \n",
       "1            67429.0  14858.564935  8471.158706  500.0  8325.0  13175.0   \n",
       "\n",
       "                75%      max  \n",
       "is_default                    \n",
       "0           20000.0  35000.0  \n",
       "1           20000.0  35000.0  "
      ]
     },
     "execution_count": 33,
     "metadata": {},
     "output_type": "execute_result"
    }
   ],
   "source": [
    "df.groupby('is_default')['loan_amount'].describe()"
   ]
  },
  {
   "cell_type": "code",
   "execution_count": 34,
   "metadata": {},
   "outputs": [
    {
     "data": {
      "text/plain": [
       "['A', 'B', 'C', 'D', 'E', 'F', 'G']"
      ]
     },
     "execution_count": 34,
     "metadata": {},
     "output_type": "execute_result"
    }
   ],
   "source": [
    "sorted(df['grade'].unique())"
   ]
  },
  {
   "cell_type": "code",
   "execution_count": 35,
   "metadata": {},
   "outputs": [
    {
     "data": {
      "text/plain": [
       "['High', 'Low', 'Medium']"
      ]
     },
     "execution_count": 35,
     "metadata": {},
     "output_type": "execute_result"
    }
   ],
   "source": [
    "sorted(df['income_type'].unique())"
   ]
  },
  {
   "cell_type": "code",
   "execution_count": 36,
   "metadata": {},
   "outputs": [
    {
     "data": {
      "text/plain": [
       "['car',\n",
       " 'credit_card',\n",
       " 'debt_consolidation',\n",
       " 'educational',\n",
       " 'home_improvement',\n",
       " 'house',\n",
       " 'major_purchase',\n",
       " 'medical',\n",
       " 'moving',\n",
       " 'other',\n",
       " 'renewable_energy',\n",
       " 'small_business',\n",
       " 'vacation',\n",
       " 'wedding']"
      ]
     },
     "execution_count": 36,
     "metadata": {},
     "output_type": "execute_result"
    }
   ],
   "source": [
    "sorted(df['loan_purpose'].unique())"
   ]
  },
  {
   "cell_type": "code",
   "execution_count": 37,
   "metadata": {},
   "outputs": [
    {
     "data": {
      "text/plain": [
       "<matplotlib.axes._subplots.AxesSubplot at 0x11d509d50>"
      ]
     },
     "execution_count": 37,
     "metadata": {},
     "output_type": "execute_result"
    },
    {
     "data": {
      "image/png": "[encoded data removed]",
      "text/plain": [
       "<Figure size 432x288 with 1 Axes>"
      ]
     },
     "metadata": {
      "needs_background": "light"
     },
     "output_type": "display_data"
    }
   ],
   "source": [
    "sns.countplot(x='grade',data=df,hue='is_default')"
   ]
  },
  {
   "cell_type": "code",
   "execution_count": 38,
   "metadata": {},
   "outputs": [
    {
     "data": {
      "text/plain": [
       "<matplotlib.axes._subplots.AxesSubplot at 0x102354cd0>"
      ]
     },
     "execution_count": 38,
     "metadata": {},
     "output_type": "execute_result"
    },
    {
     "data": {
      "image/png": "[encoded data removed]",
      "text/plain": [
       "<Figure size 432x288 with 1 Axes>"
      ]
     },
     "metadata": {
      "needs_background": "light"
     },
     "output_type": "display_data"
    }
   ],
   "source": [
    "sns.countplot(x='income_type',data=df,hue='is_default')"
   ]
  },
  {
   "cell_type": "code",
   "execution_count": 39,
   "metadata": {},
   "outputs": [
    {
     "data": {
      "text/plain": [
       "<matplotlib.axes._subplots.AxesSubplot at 0x11dcd2a90>"
      ]
     },
     "execution_count": 39,
     "metadata": {},
     "output_type": "execute_result"
    },
    {
     "data": {
      "image/png": "[encoded data removed]",
      "text/plain": [
       "<Figure size 1584x720 with 1 Axes>"
      ]
     },
     "metadata": {
      "needs_background": "light"
     },
     "output_type": "display_data"
    }
   ],
   "source": [
    "plt.figure(figsize=(22,10))\n",
    "sns.countplot(x='loan_purpose',data=df,palette='viridis')"
   ]
  },
  {
   "cell_type": "code",
   "execution_count": 40,
   "metadata": {},
   "outputs": [
    {
     "data": {
      "text/plain": [
       "<matplotlib.axes._subplots.AxesSubplot at 0x11e44b850>"
      ]
     },
     "execution_count": 40,
     "metadata": {},
     "output_type": "execute_result"
    },
    {
     "data": {
      "image/png": "[encoded data removed]",
      "text/plain": [
       "<Figure size 1584x720 with 1 Axes>"
      ]
     },
     "metadata": {
      "needs_background": "light"
     },
     "output_type": "display_data"
    }
   ],
   "source": [
    "plt.figure(figsize=(22,10))\n",
    "\n",
    "sns.countplot(x='loan_purpose',data=df,palette='seismic_r' ,hue='is_default')"
   ]
  },
  {
   "cell_type": "code",
   "execution_count": null,
   "metadata": {},
   "outputs": [],
   "source": []
  },
  {
   "cell_type": "code",
   "execution_count": 41,
   "metadata": {},
   "outputs": [
    {
     "data": {
      "text/plain": [
       "array([1, 0])"
      ]
     },
     "execution_count": 41,
     "metadata": {},
     "output_type": "execute_result"
    }
   ],
   "source": [
    "df['is_default'].unique()"
   ]
  },
  {
   "cell_type": "code",
   "execution_count": 42,
   "metadata": {},
   "outputs": [],
   "source": [
    "df['applicant_status'] = df['is_default'].map({1:'Defaulted',0:'Not Defaulted'})"
   ]
  },
  {
   "cell_type": "code",
   "execution_count": 43,
   "metadata": {},
   "outputs": [
    {
     "data": {
      "text/html": [
       "<div>\n",
       "<style scoped>\n",
       "    .dataframe tbody tr th:only-of-type {\n",
       "        vertical-align: middle;\n",
       "    }\n",
       "\n",
       "    .dataframe tbody tr th {\n",
       "        vertical-align: top;\n",
       "    }\n",
       "\n",
       "    .dataframe thead th {\n",
       "        text-align: right;\n",
       "    }\n",
       "</style>\n",
       "<table border=\"1\" class=\"dataframe\">\n",
       "  <thead>\n",
       "    <tr style=\"text-align: right;\">\n",
       "      <th></th>\n",
       "      <th>is_default</th>\n",
       "      <th>applicant_status</th>\n",
       "    </tr>\n",
       "  </thead>\n",
       "  <tbody>\n",
       "    <tr>\n",
       "      <td>0</td>\n",
       "      <td>1</td>\n",
       "      <td>Defaulted</td>\n",
       "    </tr>\n",
       "    <tr>\n",
       "      <td>1</td>\n",
       "      <td>0</td>\n",
       "      <td>Not Defaulted</td>\n",
       "    </tr>\n",
       "    <tr>\n",
       "      <td>2</td>\n",
       "      <td>0</td>\n",
       "      <td>Not Defaulted</td>\n",
       "    </tr>\n",
       "    <tr>\n",
       "      <td>3</td>\n",
       "      <td>0</td>\n",
       "      <td>Not Defaulted</td>\n",
       "    </tr>\n",
       "    <tr>\n",
       "      <td>4</td>\n",
       "      <td>0</td>\n",
       "      <td>Not Defaulted</td>\n",
       "    </tr>\n",
       "    <tr>\n",
       "      <td>...</td>\n",
       "      <td>...</td>\n",
       "      <td>...</td>\n",
       "    </tr>\n",
       "    <tr>\n",
       "      <td>887374</td>\n",
       "      <td>0</td>\n",
       "      <td>Not Defaulted</td>\n",
       "    </tr>\n",
       "    <tr>\n",
       "      <td>887375</td>\n",
       "      <td>0</td>\n",
       "      <td>Not Defaulted</td>\n",
       "    </tr>\n",
       "    <tr>\n",
       "      <td>887376</td>\n",
       "      <td>0</td>\n",
       "      <td>Not Defaulted</td>\n",
       "    </tr>\n",
       "    <tr>\n",
       "      <td>887377</td>\n",
       "      <td>0</td>\n",
       "      <td>Not Defaulted</td>\n",
       "    </tr>\n",
       "    <tr>\n",
       "      <td>887378</td>\n",
       "      <td>0</td>\n",
       "      <td>Not Defaulted</td>\n",
       "    </tr>\n",
       "  </tbody>\n",
       "</table>\n",
       "<p>887379 rows × 2 columns</p>\n",
       "</div>"
      ],
      "text/plain": [
       "        is_default applicant_status\n",
       "0                1        Defaulted\n",
       "1                0    Not Defaulted\n",
       "2                0    Not Defaulted\n",
       "3                0    Not Defaulted\n",
       "4                0    Not Defaulted\n",
       "...            ...              ...\n",
       "887374           0    Not Defaulted\n",
       "887375           0    Not Defaulted\n",
       "887376           0    Not Defaulted\n",
       "887377           0    Not Defaulted\n",
       "887378           0    Not Defaulted\n",
       "\n",
       "[887379 rows x 2 columns]"
      ]
     },
     "execution_count": 43,
     "metadata": {},
     "output_type": "execute_result"
    }
   ],
   "source": [
    "df[['is_default','applicant_status']]"
   ]
  },
  {
   "cell_type": "code",
   "execution_count": 44,
   "metadata": {},
   "outputs": [
    {
     "data": {
      "text/plain": [
       "<matplotlib.axes._subplots.AxesSubplot at 0x11e61b990>"
      ]
     },
     "execution_count": 44,
     "metadata": {},
     "output_type": "execute_result"
    },
    {
     "data": {
      "image/png": "[encoded data removed]",
      "text/plain": [
       "<Figure size 432x288 with 1 Axes>"
      ]
     },
     "metadata": {
      "needs_background": "light"
     },
     "output_type": "display_data"
    }
   ],
   "source": [
    "df.corr()['is_default'].sort_values().drop('is_default').plot(kind='bar')"
   ]
  },
  {
   "cell_type": "markdown",
   "metadata": {},
   "source": [
    "---\n",
    "\n",
    "# DATA PREPROCESSING"
   ]
  },
  {
   "cell_type": "code",
   "execution_count": 45,
   "metadata": {},
   "outputs": [
    {
     "data": {
      "text/html": [
       "<div>\n",
       "<style scoped>\n",
       "    .dataframe tbody tr th:only-of-type {\n",
       "        vertical-align: middle;\n",
       "    }\n",
       "\n",
       "    .dataframe tbody tr th {\n",
       "        vertical-align: top;\n",
       "    }\n",
       "\n",
       "    .dataframe thead th {\n",
       "        text-align: right;\n",
       "    }\n",
       "</style>\n",
       "<table border=\"1\" class=\"dataframe\">\n",
       "  <thead>\n",
       "    <tr style=\"text-align: right;\">\n",
       "      <th></th>\n",
       "      <th>cust_id</th>\n",
       "      <th>year</th>\n",
       "      <th>state</th>\n",
       "      <th>date_issued</th>\n",
       "      <th>date_final</th>\n",
       "      <th>emp_duration</th>\n",
       "      <th>own_type</th>\n",
       "      <th>income_type</th>\n",
       "      <th>app_type</th>\n",
       "      <th>loan_purpose</th>\n",
       "      <th>...</th>\n",
       "      <th>loan_amount</th>\n",
       "      <th>interest_rate</th>\n",
       "      <th>loan_duration</th>\n",
       "      <th>dti</th>\n",
       "      <th>total_pymnt</th>\n",
       "      <th>total_rec_prncp</th>\n",
       "      <th>recoveries</th>\n",
       "      <th>installment</th>\n",
       "      <th>is_default</th>\n",
       "      <th>applicant_status</th>\n",
       "    </tr>\n",
       "  </thead>\n",
       "  <tbody>\n",
       "    <tr>\n",
       "      <td>0</td>\n",
       "      <td>180675</td>\n",
       "      <td>2007</td>\n",
       "      <td>Andhra Pradesh</td>\n",
       "      <td>01/12/2007</td>\n",
       "      <td>1032009</td>\n",
       "      <td>10.0</td>\n",
       "      <td>MORTGAGE</td>\n",
       "      <td>Low</td>\n",
       "      <td>INDIVIDUAL</td>\n",
       "      <td>debt_consolidation</td>\n",
       "      <td>...</td>\n",
       "      <td>25000</td>\n",
       "      <td>10.91</td>\n",
       "      <td>36 months</td>\n",
       "      <td>22.13</td>\n",
       "      <td>13650.38</td>\n",
       "      <td>8767.32</td>\n",
       "      <td>2207.65</td>\n",
       "      <td>817.41</td>\n",
       "      <td>1</td>\n",
       "      <td>Defaulted</td>\n",
       "    </tr>\n",
       "    <tr>\n",
       "      <td>1</td>\n",
       "      <td>85781</td>\n",
       "      <td>2007</td>\n",
       "      <td>Rajasthan</td>\n",
       "      <td>01/06/2007</td>\n",
       "      <td>1072010</td>\n",
       "      <td>0.5</td>\n",
       "      <td>RENT</td>\n",
       "      <td>Low</td>\n",
       "      <td>INDIVIDUAL</td>\n",
       "      <td>other</td>\n",
       "      <td>...</td>\n",
       "      <td>1400</td>\n",
       "      <td>10.91</td>\n",
       "      <td>36 months</td>\n",
       "      <td>8.61</td>\n",
       "      <td>1663.04</td>\n",
       "      <td>1400.00</td>\n",
       "      <td>0.00</td>\n",
       "      <td>45.78</td>\n",
       "      <td>0</td>\n",
       "      <td>Not Defaulted</td>\n",
       "    </tr>\n",
       "    <tr>\n",
       "      <td>2</td>\n",
       "      <td>85675</td>\n",
       "      <td>2007</td>\n",
       "      <td>Manipur</td>\n",
       "      <td>01/06/2007</td>\n",
       "      <td>1062010</td>\n",
       "      <td>10.0</td>\n",
       "      <td>RENT</td>\n",
       "      <td>Low</td>\n",
       "      <td>INDIVIDUAL</td>\n",
       "      <td>other</td>\n",
       "      <td>...</td>\n",
       "      <td>1000</td>\n",
       "      <td>14.07</td>\n",
       "      <td>36 months</td>\n",
       "      <td>16.27</td>\n",
       "      <td>1231.38</td>\n",
       "      <td>1000.00</td>\n",
       "      <td>0.00</td>\n",
       "      <td>34.21</td>\n",
       "      <td>0</td>\n",
       "      <td>Not Defaulted</td>\n",
       "    </tr>\n",
       "    <tr>\n",
       "      <td>3</td>\n",
       "      <td>84918</td>\n",
       "      <td>2007</td>\n",
       "      <td>Andhra Pradesh</td>\n",
       "      <td>01/09/2007</td>\n",
       "      <td>1042008</td>\n",
       "      <td>10.0</td>\n",
       "      <td>MORTGAGE</td>\n",
       "      <td>Low</td>\n",
       "      <td>INDIVIDUAL</td>\n",
       "      <td>other</td>\n",
       "      <td>...</td>\n",
       "      <td>5000</td>\n",
       "      <td>7.43</td>\n",
       "      <td>36 months</td>\n",
       "      <td>0.28</td>\n",
       "      <td>5200.44</td>\n",
       "      <td>5000.00</td>\n",
       "      <td>0.00</td>\n",
       "      <td>155.38</td>\n",
       "      <td>0</td>\n",
       "      <td>Not Defaulted</td>\n",
       "    </tr>\n",
       "    <tr>\n",
       "      <td>4</td>\n",
       "      <td>84670</td>\n",
       "      <td>2007</td>\n",
       "      <td>Arunachal Pradesh</td>\n",
       "      <td>01/06/2007</td>\n",
       "      <td>1082009</td>\n",
       "      <td>10.0</td>\n",
       "      <td>MORTGAGE</td>\n",
       "      <td>High</td>\n",
       "      <td>INDIVIDUAL</td>\n",
       "      <td>other</td>\n",
       "      <td>...</td>\n",
       "      <td>5000</td>\n",
       "      <td>7.75</td>\n",
       "      <td>36 months</td>\n",
       "      <td>5.38</td>\n",
       "      <td>5565.65</td>\n",
       "      <td>5000.00</td>\n",
       "      <td>0.00</td>\n",
       "      <td>156.11</td>\n",
       "      <td>0</td>\n",
       "      <td>Not Defaulted</td>\n",
       "    </tr>\n",
       "  </tbody>\n",
       "</table>\n",
       "<p>5 rows × 23 columns</p>\n",
       "</div>"
      ],
      "text/plain": [
       "   cust_id  year              state date_issued  date_final  emp_duration  \\\n",
       "0   180675  2007     Andhra Pradesh  01/12/2007     1032009          10.0   \n",
       "1    85781  2007          Rajasthan  01/06/2007     1072010           0.5   \n",
       "2    85675  2007            Manipur  01/06/2007     1062010          10.0   \n",
       "3    84918  2007     Andhra Pradesh  01/09/2007     1042008          10.0   \n",
       "4    84670  2007  Arunachal Pradesh  01/06/2007     1082009          10.0   \n",
       "\n",
       "   own_type income_type    app_type        loan_purpose  ... loan_amount  \\\n",
       "0  MORTGAGE         Low  INDIVIDUAL  debt_consolidation  ...       25000   \n",
       "1      RENT         Low  INDIVIDUAL               other  ...        1400   \n",
       "2      RENT         Low  INDIVIDUAL               other  ...        1000   \n",
       "3  MORTGAGE         Low  INDIVIDUAL               other  ...        5000   \n",
       "4  MORTGAGE        High  INDIVIDUAL               other  ...        5000   \n",
       "\n",
       "  interest_rate  loan_duration    dti  total_pymnt total_rec_prncp  \\\n",
       "0         10.91      36 months  22.13     13650.38         8767.32   \n",
       "1         10.91      36 months   8.61      1663.04         1400.00   \n",
       "2         14.07      36 months  16.27      1231.38         1000.00   \n",
       "3          7.43      36 months   0.28      5200.44         5000.00   \n",
       "4          7.75      36 months   5.38      5565.65         5000.00   \n",
       "\n",
       "   recoveries  installment  is_default  applicant_status  \n",
       "0     2207.65       817.41           1         Defaulted  \n",
       "1        0.00        45.78           0     Not Defaulted  \n",
       "2        0.00        34.21           0     Not Defaulted  \n",
       "3        0.00       155.38           0     Not Defaulted  \n",
       "4        0.00       156.11           0     Not Defaulted  \n",
       "\n",
       "[5 rows x 23 columns]"
      ]
     },
     "execution_count": 45,
     "metadata": {},
     "output_type": "execute_result"
    }
   ],
   "source": [
    "df.head()"
   ]
  },
  {
   "cell_type": "code",
   "execution_count": 46,
   "metadata": {},
   "outputs": [
    {
     "data": {
      "text/plain": [
       "887379"
      ]
     },
     "execution_count": 46,
     "metadata": {},
     "output_type": "execute_result"
    }
   ],
   "source": [
    "len(df)"
   ]
  },
  {
   "cell_type": "code",
   "execution_count": 47,
   "metadata": {},
   "outputs": [
    {
     "data": {
      "text/plain": [
       "cust_id              0\n",
       "year                 0\n",
       "state                0\n",
       "date_issued          0\n",
       "date_final           0\n",
       "emp_duration         0\n",
       "own_type             0\n",
       "income_type          0\n",
       "app_type             0\n",
       "loan_purpose         0\n",
       "interest_payments    0\n",
       "grade                0\n",
       "annual_pay           0\n",
       "loan_amount          0\n",
       "interest_rate        0\n",
       "loan_duration        0\n",
       "dti                  0\n",
       "total_pymnt          0\n",
       "total_rec_prncp      0\n",
       "recoveries           0\n",
       "installment          0\n",
       "is_default           0\n",
       "applicant_status     0\n",
       "dtype: int64"
      ]
     },
     "execution_count": 47,
     "metadata": {},
     "output_type": "execute_result"
    }
   ],
   "source": [
    "df.isnull().sum()"
   ]
  },
  {
   "cell_type": "markdown",
   "metadata": {},
   "source": [
    "### There are no missing or null values."
   ]
  },
  {
   "cell_type": "code",
   "execution_count": 48,
   "metadata": {},
   "outputs": [
    {
     "data": {
      "text/plain": [
       "[0.5, 1.0, 2.0, 3.0, 4.0, 5.0, 6.0, 6.05, 7.0, 8.0, 9.0, 10.0]"
      ]
     },
     "execution_count": 48,
     "metadata": {},
     "output_type": "execute_result"
    }
   ],
   "source": [
    "sorted(df['emp_duration'].dropna().unique())"
   ]
  },
  {
   "cell_type": "code",
   "execution_count": 49,
   "metadata": {},
   "outputs": [
    {
     "data": {
      "text/plain": [
       "<matplotlib.axes._subplots.AxesSubplot at 0x12aaf73d0>"
      ]
     },
     "execution_count": 49,
     "metadata": {},
     "output_type": "execute_result"
    },
    {
     "data": {
      "image/png": "[encoded data removed]",
      "text/plain": [
       "<Figure size 864x288 with 1 Axes>"
      ]
     },
     "metadata": {
      "needs_background": "light"
     },
     "output_type": "display_data"
    }
   ],
   "source": [
    "plt.figure(figsize=(12,4))\n",
    "\n",
    "sns.countplot(x='emp_duration',data=df)"
   ]
  },
  {
   "cell_type": "code",
   "execution_count": 50,
   "metadata": {},
   "outputs": [
    {
     "data": {
      "text/plain": [
       "<matplotlib.axes._subplots.AxesSubplot at 0x11d395f50>"
      ]
     },
     "execution_count": 50,
     "metadata": {},
     "output_type": "execute_result"
    },
    {
     "data": {
      "image/png": "[encoded data removed]",
      "text/plain": [
       "<Figure size 864x288 with 1 Axes>"
      ]
     },
     "metadata": {
      "needs_background": "light"
     },
     "output_type": "display_data"
    }
   ],
   "source": [
    "plt.figure(figsize=(12,4))\n",
    "\n",
    "sns.countplot(x='emp_duration',data=df,hue='is_default')"
   ]
  },
  {
   "cell_type": "code",
   "execution_count": 51,
   "metadata": {},
   "outputs": [],
   "source": [
    "df = df.drop('emp_duration',axis=1)"
   ]
  },
  {
   "cell_type": "code",
   "execution_count": 52,
   "metadata": {},
   "outputs": [
    {
     "data": {
      "text/plain": [
       "0     Low\n",
       "1     Low\n",
       "2     Low\n",
       "3     Low\n",
       "4    High\n",
       "5     Low\n",
       "6     Low\n",
       "7     Low\n",
       "8     Low\n",
       "9     Low\n",
       "Name: income_type, dtype: object"
      ]
     },
     "execution_count": 52,
     "metadata": {},
     "output_type": "execute_result"
    }
   ],
   "source": [
    "df['income_type'].head(10)"
   ]
  },
  {
   "cell_type": "code",
   "execution_count": 53,
   "metadata": {},
   "outputs": [
    {
     "data": {
      "text/plain": [
       "0     Low\n",
       "1     Low\n",
       "2    High\n",
       "3     Low\n",
       "4     Low\n",
       "5     Low\n",
       "6     Low\n",
       "7     Low\n",
       "8     Low\n",
       "9     Low\n",
       "Name: interest_payments, dtype: object"
      ]
     },
     "execution_count": 53,
     "metadata": {},
     "output_type": "execute_result"
    }
   ],
   "source": [
    "df['interest_payments'].head(10)"
   ]
  },
  {
   "cell_type": "code",
   "execution_count": 54,
   "metadata": {},
   "outputs": [],
   "source": [
    "df = df.drop('interest_payments',axis=1)"
   ]
  },
  {
   "cell_type": "markdown",
   "metadata": {},
   "source": [
    "## Dealing with Categorical Variables and Dummy Variables"
   ]
  },
  {
   "cell_type": "code",
   "execution_count": 55,
   "metadata": {},
   "outputs": [
    {
     "data": {
      "text/plain": [
       "Index(['state', 'date_issued', 'own_type', 'income_type', 'app_type',\n",
       "       'loan_purpose', 'grade', 'loan_duration', 'applicant_status'],\n",
       "      dtype='object')"
      ]
     },
     "execution_count": 55,
     "metadata": {},
     "output_type": "execute_result"
    }
   ],
   "source": [
    "df.select_dtypes(['object']).columns"
   ]
  },
  {
   "cell_type": "markdown",
   "metadata": {},
   "source": [
    "## Now lets go through individual features: -"
   ]
  },
  {
   "cell_type": "markdown",
   "metadata": {},
   "source": [
    "### loan_duration feature"
   ]
  },
  {
   "cell_type": "code",
   "execution_count": 56,
   "metadata": {},
   "outputs": [
    {
     "data": {
      "text/plain": [
       " 36 months    621125\n",
       " 60 months    266254\n",
       "Name: loan_duration, dtype: int64"
      ]
     },
     "execution_count": 56,
     "metadata": {},
     "output_type": "execute_result"
    }
   ],
   "source": [
    "df['loan_duration'].value_counts()"
   ]
  },
  {
   "cell_type": "code",
   "execution_count": 57,
   "metadata": {},
   "outputs": [],
   "source": [
    "df['loan_duration'] = df['loan_duration'].apply(lambda term: int(term[:3]))"
   ]
  },
  {
   "cell_type": "code",
   "execution_count": 58,
   "metadata": {},
   "outputs": [
    {
     "data": {
      "text/plain": [
       "0         36\n",
       "1         36\n",
       "2         36\n",
       "3         36\n",
       "4         36\n",
       "          ..\n",
       "887374    36\n",
       "887375    36\n",
       "887376    60\n",
       "887377    60\n",
       "887378    60\n",
       "Name: loan_duration, Length: 887379, dtype: int64"
      ]
     },
     "execution_count": 58,
     "metadata": {},
     "output_type": "execute_result"
    }
   ],
   "source": [
    "df['loan_duration']"
   ]
  },
  {
   "cell_type": "markdown",
   "metadata": {},
   "source": [
    "### grade feature"
   ]
  },
  {
   "cell_type": "code",
   "execution_count": 59,
   "metadata": {},
   "outputs": [],
   "source": [
    "dummies = pd.get_dummies(df['grade'],drop_first=True)"
   ]
  },
  {
   "cell_type": "code",
   "execution_count": 60,
   "metadata": {},
   "outputs": [],
   "source": [
    "df = pd.concat([df.drop('grade',axis=1),dummies],axis=1)"
   ]
  },
  {
   "cell_type": "code",
   "execution_count": 61,
   "metadata": {},
   "outputs": [
    {
     "data": {
      "text/plain": [
       "Index(['cust_id', 'year', 'state', 'date_issued', 'date_final', 'own_type',\n",
       "       'income_type', 'app_type', 'loan_purpose', 'annual_pay', 'loan_amount',\n",
       "       'interest_rate', 'loan_duration', 'dti', 'total_pymnt',\n",
       "       'total_rec_prncp', 'recoveries', 'installment', 'is_default',\n",
       "       'applicant_status', 'B', 'C', 'D', 'E', 'F', 'G'],\n",
       "      dtype='object')"
      ]
     },
     "execution_count": 61,
     "metadata": {},
     "output_type": "execute_result"
    }
   ],
   "source": [
    "df.columns"
   ]
  },
  {
   "cell_type": "code",
   "execution_count": 62,
   "metadata": {},
   "outputs": [
    {
     "data": {
      "text/plain": [
       "Index(['state', 'date_issued', 'own_type', 'income_type', 'app_type',\n",
       "       'loan_purpose', 'applicant_status'],\n",
       "      dtype='object')"
      ]
     },
     "execution_count": 62,
     "metadata": {},
     "output_type": "execute_result"
    }
   ],
   "source": [
    "df.select_dtypes(['object']).columns"
   ]
  },
  {
   "cell_type": "markdown",
   "metadata": {},
   "source": [
    "### app_type and loan_purpose features"
   ]
  },
  {
   "cell_type": "code",
   "execution_count": 63,
   "metadata": {},
   "outputs": [],
   "source": [
    "dummies = pd.get_dummies(df[['app_type','loan_purpose' ]],drop_first=True)\n",
    "df = df.drop(['app_type','loan_purpose'],axis=1)\n",
    "df = pd.concat([df,dummies],axis=1)\n"
   ]
  },
  {
   "cell_type": "code",
   "execution_count": 64,
   "metadata": {},
   "outputs": [
    {
     "data": {
      "text/plain": [
       "Index(['cust_id', 'year', 'state', 'date_issued', 'date_final', 'own_type',\n",
       "       'income_type', 'annual_pay', 'loan_amount', 'interest_rate',\n",
       "       'loan_duration', 'dti', 'total_pymnt', 'total_rec_prncp', 'recoveries',\n",
       "       'installment', 'is_default', 'applicant_status', 'B', 'C', 'D', 'E',\n",
       "       'F', 'G', 'app_type_JOINT', 'loan_purpose_credit_card',\n",
       "       'loan_purpose_debt_consolidation', 'loan_purpose_educational',\n",
       "       'loan_purpose_home_improvement', 'loan_purpose_house',\n",
       "       'loan_purpose_major_purchase', 'loan_purpose_medical',\n",
       "       'loan_purpose_moving', 'loan_purpose_other',\n",
       "       'loan_purpose_renewable_energy', 'loan_purpose_small_business',\n",
       "       'loan_purpose_vacation', 'loan_purpose_wedding'],\n",
       "      dtype='object')"
      ]
     },
     "execution_count": 64,
     "metadata": {},
     "output_type": "execute_result"
    }
   ],
   "source": [
    "df.columns"
   ]
  },
  {
   "cell_type": "markdown",
   "metadata": {},
   "source": [
    "### own_type feature"
   ]
  },
  {
   "cell_type": "code",
   "execution_count": 65,
   "metadata": {},
   "outputs": [
    {
     "data": {
      "text/plain": [
       "MORTGAGE    443557\n",
       "RENT        356117\n",
       "OWN          87470\n",
       "OTHER          182\n",
       "NONE            50\n",
       "ANY              3\n",
       "Name: own_type, dtype: int64"
      ]
     },
     "execution_count": 65,
     "metadata": {},
     "output_type": "execute_result"
    }
   ],
   "source": [
    "df['own_type'].value_counts()"
   ]
  },
  {
   "cell_type": "markdown",
   "metadata": {},
   "source": [
    "#### Lets replace NONE and ANY with OTHER so that we have just four Categories"
   ]
  },
  {
   "cell_type": "code",
   "execution_count": 66,
   "metadata": {},
   "outputs": [],
   "source": [
    "df['own_type']=df['own_type'].replace(['NONE', 'ANY'], 'OTHER')\n",
    "\n",
    "dummies = pd.get_dummies(df['own_type'],drop_first=True)\n",
    "df = df.drop('own_type',axis=1)\n",
    "df = pd.concat([df,dummies],axis=1)"
   ]
  },
  {
   "cell_type": "code",
   "execution_count": 67,
   "metadata": {},
   "outputs": [
    {
     "data": {
      "text/plain": [
       "Index(['state', 'date_issued', 'income_type', 'applicant_status'], dtype='object')"
      ]
     },
     "execution_count": 67,
     "metadata": {},
     "output_type": "execute_result"
    }
   ],
   "source": [
    "df.select_dtypes(['object']).columns"
   ]
  },
  {
   "cell_type": "markdown",
   "metadata": {},
   "source": [
    "---\n",
    "\n",
    "\n",
    "# FEATURE SELECTION"
   ]
  },
  {
   "cell_type": "markdown",
   "metadata": {},
   "source": [
    "### date_issued feature"
   ]
  },
  {
   "cell_type": "code",
   "execution_count": 68,
   "metadata": {},
   "outputs": [],
   "source": [
    "df = df.drop('date_issued',axis=1)"
   ]
  },
  {
   "cell_type": "code",
   "execution_count": 69,
   "metadata": {},
   "outputs": [
    {
     "data": {
      "text/plain": [
       "Index(['state', 'income_type', 'applicant_status'], dtype='object')"
      ]
     },
     "execution_count": 69,
     "metadata": {},
     "output_type": "execute_result"
    }
   ],
   "source": [
    "df.select_dtypes(['object']).columns"
   ]
  },
  {
   "cell_type": "code",
   "execution_count": null,
   "metadata": {},
   "outputs": [],
   "source": []
  },
  {
   "cell_type": "markdown",
   "metadata": {},
   "source": [
    "### income_type feature"
   ]
  },
  {
   "cell_type": "code",
   "execution_count": 70,
   "metadata": {},
   "outputs": [],
   "source": [
    "dummies = pd.get_dummies(df['income_type'],drop_first=True)"
   ]
  },
  {
   "cell_type": "code",
   "execution_count": 71,
   "metadata": {},
   "outputs": [],
   "source": [
    "df = pd.concat([df.drop('income_type',axis=1),dummies],axis=1)"
   ]
  },
  {
   "cell_type": "code",
   "execution_count": 72,
   "metadata": {},
   "outputs": [
    {
     "data": {
      "text/plain": [
       "Index(['cust_id', 'year', 'state', 'date_final', 'annual_pay', 'loan_amount',\n",
       "       'interest_rate', 'loan_duration', 'dti', 'total_pymnt',\n",
       "       'total_rec_prncp', 'recoveries', 'installment', 'is_default',\n",
       "       'applicant_status', 'B', 'C', 'D', 'E', 'F', 'G', 'app_type_JOINT',\n",
       "       'loan_purpose_credit_card', 'loan_purpose_debt_consolidation',\n",
       "       'loan_purpose_educational', 'loan_purpose_home_improvement',\n",
       "       'loan_purpose_house', 'loan_purpose_major_purchase',\n",
       "       'loan_purpose_medical', 'loan_purpose_moving', 'loan_purpose_other',\n",
       "       'loan_purpose_renewable_energy', 'loan_purpose_small_business',\n",
       "       'loan_purpose_vacation', 'loan_purpose_wedding', 'OTHER', 'OWN', 'RENT',\n",
       "       'Low', 'Medium'],\n",
       "      dtype='object')"
      ]
     },
     "execution_count": 72,
     "metadata": {},
     "output_type": "execute_result"
    }
   ],
   "source": [
    "df.columns"
   ]
  },
  {
   "cell_type": "code",
   "execution_count": 73,
   "metadata": {},
   "outputs": [
    {
     "data": {
      "text/plain": [
       "Index(['state', 'applicant_status'], dtype='object')"
      ]
     },
     "execution_count": 73,
     "metadata": {},
     "output_type": "execute_result"
    }
   ],
   "source": [
    "df.select_dtypes(['object']).columns"
   ]
  },
  {
   "cell_type": "markdown",
   "metadata": {},
   "source": [
    "### state feature"
   ]
  },
  {
   "cell_type": "code",
   "execution_count": 74,
   "metadata": {},
   "outputs": [
    {
     "data": {
      "text/plain": [
       "Chhattisgarh         32211\n",
       "Sikkim               32130\n",
       "Haryana              31999\n",
       "Punjab               31853\n",
       "Assam                31792\n",
       "Goa                  31786\n",
       "Madhya Pradesh       31752\n",
       "Uttar Pradesh        31750\n",
       "Maharashtra          31732\n",
       "Himachal Pradesh     31730\n",
       "Arunachal Pradesh    31703\n",
       "Nagaland             31701\n",
       "Andhra Pradesh       31688\n",
       "Kerala               31687\n",
       "Tripura              31669\n",
       "Rajasthan            31669\n",
       "Karnataka            31619\n",
       "Manipur              31603\n",
       "West Bengal          31596\n",
       "Odisha               31587\n",
       "Telangana            31586\n",
       "Bihar                31577\n",
       "Jharkhand            31550\n",
       "Gujarat              31536\n",
       "Uttarakhand          31536\n",
       "Mizoram              31536\n",
       "Tamil Nadu           31517\n",
       "Meghalaya            31284\n",
       "Name: state, dtype: int64"
      ]
     },
     "execution_count": 74,
     "metadata": {},
     "output_type": "execute_result"
    }
   ],
   "source": [
    "df['state'].value_counts()"
   ]
  },
  {
   "cell_type": "code",
   "execution_count": 75,
   "metadata": {},
   "outputs": [],
   "source": [
    "df = df.drop('state',axis=1)"
   ]
  },
  {
   "cell_type": "markdown",
   "metadata": {},
   "source": [
    "### applicant_status feature"
   ]
  },
  {
   "cell_type": "code",
   "execution_count": 76,
   "metadata": {},
   "outputs": [],
   "source": [
    "df = df.drop('applicant_status',axis=1)"
   ]
  },
  {
   "cell_type": "code",
   "execution_count": 103,
   "metadata": {},
   "outputs": [
    {
     "data": {
      "text/plain": [
       "Index([], dtype='object')"
      ]
     },
     "execution_count": 103,
     "metadata": {},
     "output_type": "execute_result"
    }
   ],
   "source": [
    "df.select_dtypes(['object']).columns"
   ]
  },
  {
   "cell_type": "code",
   "execution_count": 111,
   "metadata": {},
   "outputs": [],
   "source": [
    "df.to_csv('instalend-filtered.csv')"
   ]
  },
  {
   "cell_type": "code",
   "execution_count": 112,
   "metadata": {},
   "outputs": [
    {
     "data": {
      "text/html": [
       "<div>\n",
       "<style scoped>\n",
       "    .dataframe tbody tr th:only-of-type {\n",
       "        vertical-align: middle;\n",
       "    }\n",
       "\n",
       "    .dataframe tbody tr th {\n",
       "        vertical-align: top;\n",
       "    }\n",
       "\n",
       "    .dataframe thead th {\n",
       "        text-align: right;\n",
       "    }\n",
       "</style>\n",
       "<table border=\"1\" class=\"dataframe\">\n",
       "  <thead>\n",
       "    <tr style=\"text-align: right;\">\n",
       "      <th></th>\n",
       "      <th>cust_id</th>\n",
       "      <th>year</th>\n",
       "      <th>date_final</th>\n",
       "      <th>annual_pay</th>\n",
       "      <th>loan_amount</th>\n",
       "      <th>interest_rate</th>\n",
       "      <th>loan_duration</th>\n",
       "      <th>dti</th>\n",
       "      <th>total_pymnt</th>\n",
       "      <th>total_rec_prncp</th>\n",
       "      <th>...</th>\n",
       "      <th>loan_purpose_other</th>\n",
       "      <th>loan_purpose_renewable_energy</th>\n",
       "      <th>loan_purpose_small_business</th>\n",
       "      <th>loan_purpose_vacation</th>\n",
       "      <th>loan_purpose_wedding</th>\n",
       "      <th>OTHER</th>\n",
       "      <th>OWN</th>\n",
       "      <th>RENT</th>\n",
       "      <th>Low</th>\n",
       "      <th>Medium</th>\n",
       "    </tr>\n",
       "  </thead>\n",
       "  <tbody>\n",
       "    <tr>\n",
       "      <td>0</td>\n",
       "      <td>180675</td>\n",
       "      <td>2007</td>\n",
       "      <td>1032009</td>\n",
       "      <td>73000</td>\n",
       "      <td>25000</td>\n",
       "      <td>10.91</td>\n",
       "      <td>36</td>\n",
       "      <td>22.13</td>\n",
       "      <td>13650.38</td>\n",
       "      <td>8767.32</td>\n",
       "      <td>...</td>\n",
       "      <td>0</td>\n",
       "      <td>0</td>\n",
       "      <td>0</td>\n",
       "      <td>0</td>\n",
       "      <td>0</td>\n",
       "      <td>0</td>\n",
       "      <td>0</td>\n",
       "      <td>0</td>\n",
       "      <td>1</td>\n",
       "      <td>0</td>\n",
       "    </tr>\n",
       "    <tr>\n",
       "      <td>1</td>\n",
       "      <td>85781</td>\n",
       "      <td>2007</td>\n",
       "      <td>1072010</td>\n",
       "      <td>40000</td>\n",
       "      <td>1400</td>\n",
       "      <td>10.91</td>\n",
       "      <td>36</td>\n",
       "      <td>8.61</td>\n",
       "      <td>1663.04</td>\n",
       "      <td>1400.00</td>\n",
       "      <td>...</td>\n",
       "      <td>1</td>\n",
       "      <td>0</td>\n",
       "      <td>0</td>\n",
       "      <td>0</td>\n",
       "      <td>0</td>\n",
       "      <td>0</td>\n",
       "      <td>0</td>\n",
       "      <td>1</td>\n",
       "      <td>1</td>\n",
       "      <td>0</td>\n",
       "    </tr>\n",
       "    <tr>\n",
       "      <td>2</td>\n",
       "      <td>85675</td>\n",
       "      <td>2007</td>\n",
       "      <td>1062010</td>\n",
       "      <td>25000</td>\n",
       "      <td>1000</td>\n",
       "      <td>14.07</td>\n",
       "      <td>36</td>\n",
       "      <td>16.27</td>\n",
       "      <td>1231.38</td>\n",
       "      <td>1000.00</td>\n",
       "      <td>...</td>\n",
       "      <td>1</td>\n",
       "      <td>0</td>\n",
       "      <td>0</td>\n",
       "      <td>0</td>\n",
       "      <td>0</td>\n",
       "      <td>0</td>\n",
       "      <td>0</td>\n",
       "      <td>1</td>\n",
       "      <td>1</td>\n",
       "      <td>0</td>\n",
       "    </tr>\n",
       "    <tr>\n",
       "      <td>3</td>\n",
       "      <td>84918</td>\n",
       "      <td>2007</td>\n",
       "      <td>1042008</td>\n",
       "      <td>65000</td>\n",
       "      <td>5000</td>\n",
       "      <td>7.43</td>\n",
       "      <td>36</td>\n",
       "      <td>0.28</td>\n",
       "      <td>5200.44</td>\n",
       "      <td>5000.00</td>\n",
       "      <td>...</td>\n",
       "      <td>1</td>\n",
       "      <td>0</td>\n",
       "      <td>0</td>\n",
       "      <td>0</td>\n",
       "      <td>0</td>\n",
       "      <td>0</td>\n",
       "      <td>0</td>\n",
       "      <td>0</td>\n",
       "      <td>1</td>\n",
       "      <td>0</td>\n",
       "    </tr>\n",
       "    <tr>\n",
       "      <td>4</td>\n",
       "      <td>84670</td>\n",
       "      <td>2007</td>\n",
       "      <td>1082009</td>\n",
       "      <td>300000</td>\n",
       "      <td>5000</td>\n",
       "      <td>7.75</td>\n",
       "      <td>36</td>\n",
       "      <td>5.38</td>\n",
       "      <td>5565.65</td>\n",
       "      <td>5000.00</td>\n",
       "      <td>...</td>\n",
       "      <td>1</td>\n",
       "      <td>0</td>\n",
       "      <td>0</td>\n",
       "      <td>0</td>\n",
       "      <td>0</td>\n",
       "      <td>0</td>\n",
       "      <td>0</td>\n",
       "      <td>0</td>\n",
       "      <td>0</td>\n",
       "      <td>0</td>\n",
       "    </tr>\n",
       "    <tr>\n",
       "      <td>5</td>\n",
       "      <td>84098</td>\n",
       "      <td>2007</td>\n",
       "      <td>1012008</td>\n",
       "      <td>66624</td>\n",
       "      <td>2500</td>\n",
       "      <td>7.43</td>\n",
       "      <td>36</td>\n",
       "      <td>10.36</td>\n",
       "      <td>2600.23</td>\n",
       "      <td>2500.00</td>\n",
       "      <td>...</td>\n",
       "      <td>1</td>\n",
       "      <td>0</td>\n",
       "      <td>0</td>\n",
       "      <td>0</td>\n",
       "      <td>0</td>\n",
       "      <td>0</td>\n",
       "      <td>0</td>\n",
       "      <td>0</td>\n",
       "      <td>1</td>\n",
       "      <td>0</td>\n",
       "    </tr>\n",
       "    <tr>\n",
       "      <td>6</td>\n",
       "      <td>83979</td>\n",
       "      <td>2007</td>\n",
       "      <td>1012008</td>\n",
       "      <td>80000</td>\n",
       "      <td>3000</td>\n",
       "      <td>7.43</td>\n",
       "      <td>36</td>\n",
       "      <td>0.39</td>\n",
       "      <td>3120.26</td>\n",
       "      <td>3000.00</td>\n",
       "      <td>...</td>\n",
       "      <td>1</td>\n",
       "      <td>0</td>\n",
       "      <td>0</td>\n",
       "      <td>0</td>\n",
       "      <td>0</td>\n",
       "      <td>0</td>\n",
       "      <td>0</td>\n",
       "      <td>0</td>\n",
       "      <td>1</td>\n",
       "      <td>0</td>\n",
       "    </tr>\n",
       "    <tr>\n",
       "      <td>7</td>\n",
       "      <td>85818</td>\n",
       "      <td>2007</td>\n",
       "      <td>1042010</td>\n",
       "      <td>28000</td>\n",
       "      <td>5000</td>\n",
       "      <td>11.22</td>\n",
       "      <td>36</td>\n",
       "      <td>3.51</td>\n",
       "      <td>5858.35</td>\n",
       "      <td>5000.00</td>\n",
       "      <td>...</td>\n",
       "      <td>1</td>\n",
       "      <td>0</td>\n",
       "      <td>0</td>\n",
       "      <td>0</td>\n",
       "      <td>0</td>\n",
       "      <td>0</td>\n",
       "      <td>0</td>\n",
       "      <td>1</td>\n",
       "      <td>1</td>\n",
       "      <td>0</td>\n",
       "    </tr>\n",
       "    <tr>\n",
       "      <td>8</td>\n",
       "      <td>83489</td>\n",
       "      <td>2007</td>\n",
       "      <td>1032010</td>\n",
       "      <td>6500</td>\n",
       "      <td>2600</td>\n",
       "      <td>8.38</td>\n",
       "      <td>36</td>\n",
       "      <td>6.46</td>\n",
       "      <td>2342.01</td>\n",
       "      <td>1962.69</td>\n",
       "      <td>...</td>\n",
       "      <td>1</td>\n",
       "      <td>0</td>\n",
       "      <td>0</td>\n",
       "      <td>0</td>\n",
       "      <td>0</td>\n",
       "      <td>0</td>\n",
       "      <td>0</td>\n",
       "      <td>0</td>\n",
       "      <td>1</td>\n",
       "      <td>0</td>\n",
       "    </tr>\n",
       "    <tr>\n",
       "      <td>9</td>\n",
       "      <td>81085</td>\n",
       "      <td>2007</td>\n",
       "      <td>1082008</td>\n",
       "      <td>60000</td>\n",
       "      <td>10500</td>\n",
       "      <td>11.22</td>\n",
       "      <td>36</td>\n",
       "      <td>19.50</td>\n",
       "      <td>11219.80</td>\n",
       "      <td>10500.00</td>\n",
       "      <td>...</td>\n",
       "      <td>1</td>\n",
       "      <td>0</td>\n",
       "      <td>0</td>\n",
       "      <td>0</td>\n",
       "      <td>0</td>\n",
       "      <td>0</td>\n",
       "      <td>0</td>\n",
       "      <td>1</td>\n",
       "      <td>1</td>\n",
       "      <td>0</td>\n",
       "    </tr>\n",
       "  </tbody>\n",
       "</table>\n",
       "<p>10 rows × 38 columns</p>\n",
       "</div>"
      ],
      "text/plain": [
       "   cust_id  year  date_final  annual_pay  loan_amount  interest_rate  \\\n",
       "0   180675  2007     1032009       73000        25000          10.91   \n",
       "1    85781  2007     1072010       40000         1400          10.91   \n",
       "2    85675  2007     1062010       25000         1000          14.07   \n",
       "3    84918  2007     1042008       65000         5000           7.43   \n",
       "4    84670  2007     1082009      300000         5000           7.75   \n",
       "5    84098  2007     1012008       66624         2500           7.43   \n",
       "6    83979  2007     1012008       80000         3000           7.43   \n",
       "7    85818  2007     1042010       28000         5000          11.22   \n",
       "8    83489  2007     1032010        6500         2600           8.38   \n",
       "9    81085  2007     1082008       60000        10500          11.22   \n",
       "\n",
       "   loan_duration    dti  total_pymnt  total_rec_prncp  ...  \\\n",
       "0             36  22.13     13650.38          8767.32  ...   \n",
       "1             36   8.61      1663.04          1400.00  ...   \n",
       "2             36  16.27      1231.38          1000.00  ...   \n",
       "3             36   0.28      5200.44          5000.00  ...   \n",
       "4             36   5.38      5565.65          5000.00  ...   \n",
       "5             36  10.36      2600.23          2500.00  ...   \n",
       "6             36   0.39      3120.26          3000.00  ...   \n",
       "7             36   3.51      5858.35          5000.00  ...   \n",
       "8             36   6.46      2342.01          1962.69  ...   \n",
       "9             36  19.50     11219.80         10500.00  ...   \n",
       "\n",
       "   loan_purpose_other  loan_purpose_renewable_energy  \\\n",
       "0                   0                              0   \n",
       "1                   1                              0   \n",
       "2                   1                              0   \n",
       "3                   1                              0   \n",
       "4                   1                              0   \n",
       "5                   1                              0   \n",
       "6                   1                              0   \n",
       "7                   1                              0   \n",
       "8                   1                              0   \n",
       "9                   1                              0   \n",
       "\n",
       "   loan_purpose_small_business  loan_purpose_vacation  loan_purpose_wedding  \\\n",
       "0                            0                      0                     0   \n",
       "1                            0                      0                     0   \n",
       "2                            0                      0                     0   \n",
       "3                            0                      0                     0   \n",
       "4                            0                      0                     0   \n",
       "5                            0                      0                     0   \n",
       "6                            0                      0                     0   \n",
       "7                            0                      0                     0   \n",
       "8                            0                      0                     0   \n",
       "9                            0                      0                     0   \n",
       "\n",
       "   OTHER  OWN  RENT  Low  Medium  \n",
       "0      0    0     0    1       0  \n",
       "1      0    0     1    1       0  \n",
       "2      0    0     1    1       0  \n",
       "3      0    0     0    1       0  \n",
       "4      0    0     0    0       0  \n",
       "5      0    0     0    1       0  \n",
       "6      0    0     0    1       0  \n",
       "7      0    0     1    1       0  \n",
       "8      0    0     0    1       0  \n",
       "9      0    0     1    1       0  \n",
       "\n",
       "[10 rows x 38 columns]"
      ]
     },
     "execution_count": 112,
     "metadata": {},
     "output_type": "execute_result"
    }
   ],
   "source": [
    "df.head(10)"
   ]
  },
  {
   "cell_type": "markdown",
   "metadata": {},
   "source": [
    "---\n",
    "\n",
    "# MODEL DEVELOPMENT"
   ]
  },
  {
   "cell_type": "markdown",
   "metadata": {},
   "source": [
    "### Train Test Split"
   ]
  },
  {
   "cell_type": "code",
   "execution_count": 78,
   "metadata": {},
   "outputs": [],
   "source": [
    "from sklearn.model_selection import train_test_split"
   ]
  },
  {
   "cell_type": "code",
   "execution_count": 79,
   "metadata": {},
   "outputs": [],
   "source": [
    "X = df.drop('is_default',axis=1).values\n",
    "y = df['is_default'].values"
   ]
  },
  {
   "cell_type": "code",
   "execution_count": 80,
   "metadata": {},
   "outputs": [
    {
     "name": "stdout",
     "output_type": "stream",
     "text": [
      "887379\n"
     ]
    }
   ],
   "source": [
    "print(len(df))"
   ]
  },
  {
   "cell_type": "code",
   "execution_count": 81,
   "metadata": {},
   "outputs": [],
   "source": [
    "X_train, X_test, y_train, y_test = train_test_split(X, y, test_size=0.20)"
   ]
  },
  {
   "cell_type": "markdown",
   "metadata": {},
   "source": [
    "## MODEL BUILDING: -"
   ]
  },
  {
   "cell_type": "code",
   "execution_count": 82,
   "metadata": {},
   "outputs": [
    {
     "data": {
      "text/html": [
       "<div>\n",
       "<style scoped>\n",
       "    .dataframe tbody tr th:only-of-type {\n",
       "        vertical-align: middle;\n",
       "    }\n",
       "\n",
       "    .dataframe tbody tr th {\n",
       "        vertical-align: top;\n",
       "    }\n",
       "\n",
       "    .dataframe thead th {\n",
       "        text-align: right;\n",
       "    }\n",
       "</style>\n",
       "<table border=\"1\" class=\"dataframe\">\n",
       "  <thead>\n",
       "    <tr style=\"text-align: right;\">\n",
       "      <th></th>\n",
       "      <th>cust_id</th>\n",
       "      <th>year</th>\n",
       "      <th>date_final</th>\n",
       "      <th>annual_pay</th>\n",
       "      <th>loan_amount</th>\n",
       "      <th>interest_rate</th>\n",
       "      <th>loan_duration</th>\n",
       "      <th>dti</th>\n",
       "      <th>total_pymnt</th>\n",
       "      <th>total_rec_prncp</th>\n",
       "      <th>...</th>\n",
       "      <th>loan_purpose_other</th>\n",
       "      <th>loan_purpose_renewable_energy</th>\n",
       "      <th>loan_purpose_small_business</th>\n",
       "      <th>loan_purpose_vacation</th>\n",
       "      <th>loan_purpose_wedding</th>\n",
       "      <th>OTHER</th>\n",
       "      <th>OWN</th>\n",
       "      <th>RENT</th>\n",
       "      <th>Low</th>\n",
       "      <th>Medium</th>\n",
       "    </tr>\n",
       "  </thead>\n",
       "  <tbody>\n",
       "    <tr>\n",
       "      <td>0</td>\n",
       "      <td>180675</td>\n",
       "      <td>2007</td>\n",
       "      <td>1032009</td>\n",
       "      <td>73000</td>\n",
       "      <td>25000</td>\n",
       "      <td>10.91</td>\n",
       "      <td>36</td>\n",
       "      <td>22.13</td>\n",
       "      <td>13650.38</td>\n",
       "      <td>8767.32</td>\n",
       "      <td>...</td>\n",
       "      <td>0</td>\n",
       "      <td>0</td>\n",
       "      <td>0</td>\n",
       "      <td>0</td>\n",
       "      <td>0</td>\n",
       "      <td>0</td>\n",
       "      <td>0</td>\n",
       "      <td>0</td>\n",
       "      <td>1</td>\n",
       "      <td>0</td>\n",
       "    </tr>\n",
       "    <tr>\n",
       "      <td>1</td>\n",
       "      <td>85781</td>\n",
       "      <td>2007</td>\n",
       "      <td>1072010</td>\n",
       "      <td>40000</td>\n",
       "      <td>1400</td>\n",
       "      <td>10.91</td>\n",
       "      <td>36</td>\n",
       "      <td>8.61</td>\n",
       "      <td>1663.04</td>\n",
       "      <td>1400.00</td>\n",
       "      <td>...</td>\n",
       "      <td>1</td>\n",
       "      <td>0</td>\n",
       "      <td>0</td>\n",
       "      <td>0</td>\n",
       "      <td>0</td>\n",
       "      <td>0</td>\n",
       "      <td>0</td>\n",
       "      <td>1</td>\n",
       "      <td>1</td>\n",
       "      <td>0</td>\n",
       "    </tr>\n",
       "    <tr>\n",
       "      <td>2</td>\n",
       "      <td>85675</td>\n",
       "      <td>2007</td>\n",
       "      <td>1062010</td>\n",
       "      <td>25000</td>\n",
       "      <td>1000</td>\n",
       "      <td>14.07</td>\n",
       "      <td>36</td>\n",
       "      <td>16.27</td>\n",
       "      <td>1231.38</td>\n",
       "      <td>1000.00</td>\n",
       "      <td>...</td>\n",
       "      <td>1</td>\n",
       "      <td>0</td>\n",
       "      <td>0</td>\n",
       "      <td>0</td>\n",
       "      <td>0</td>\n",
       "      <td>0</td>\n",
       "      <td>0</td>\n",
       "      <td>1</td>\n",
       "      <td>1</td>\n",
       "      <td>0</td>\n",
       "    </tr>\n",
       "    <tr>\n",
       "      <td>3</td>\n",
       "      <td>84918</td>\n",
       "      <td>2007</td>\n",
       "      <td>1042008</td>\n",
       "      <td>65000</td>\n",
       "      <td>5000</td>\n",
       "      <td>7.43</td>\n",
       "      <td>36</td>\n",
       "      <td>0.28</td>\n",
       "      <td>5200.44</td>\n",
       "      <td>5000.00</td>\n",
       "      <td>...</td>\n",
       "      <td>1</td>\n",
       "      <td>0</td>\n",
       "      <td>0</td>\n",
       "      <td>0</td>\n",
       "      <td>0</td>\n",
       "      <td>0</td>\n",
       "      <td>0</td>\n",
       "      <td>0</td>\n",
       "      <td>1</td>\n",
       "      <td>0</td>\n",
       "    </tr>\n",
       "    <tr>\n",
       "      <td>4</td>\n",
       "      <td>84670</td>\n",
       "      <td>2007</td>\n",
       "      <td>1082009</td>\n",
       "      <td>300000</td>\n",
       "      <td>5000</td>\n",
       "      <td>7.75</td>\n",
       "      <td>36</td>\n",
       "      <td>5.38</td>\n",
       "      <td>5565.65</td>\n",
       "      <td>5000.00</td>\n",
       "      <td>...</td>\n",
       "      <td>1</td>\n",
       "      <td>0</td>\n",
       "      <td>0</td>\n",
       "      <td>0</td>\n",
       "      <td>0</td>\n",
       "      <td>0</td>\n",
       "      <td>0</td>\n",
       "      <td>0</td>\n",
       "      <td>0</td>\n",
       "      <td>0</td>\n",
       "    </tr>\n",
       "  </tbody>\n",
       "</table>\n",
       "<p>5 rows × 38 columns</p>\n",
       "</div>"
      ],
      "text/plain": [
       "   cust_id  year  date_final  annual_pay  loan_amount  interest_rate  \\\n",
       "0   180675  2007     1032009       73000        25000          10.91   \n",
       "1    85781  2007     1072010       40000         1400          10.91   \n",
       "2    85675  2007     1062010       25000         1000          14.07   \n",
       "3    84918  2007     1042008       65000         5000           7.43   \n",
       "4    84670  2007     1082009      300000         5000           7.75   \n",
       "\n",
       "   loan_duration    dti  total_pymnt  total_rec_prncp  ...  \\\n",
       "0             36  22.13     13650.38          8767.32  ...   \n",
       "1             36   8.61      1663.04          1400.00  ...   \n",
       "2             36  16.27      1231.38          1000.00  ...   \n",
       "3             36   0.28      5200.44          5000.00  ...   \n",
       "4             36   5.38      5565.65          5000.00  ...   \n",
       "\n",
       "   loan_purpose_other  loan_purpose_renewable_energy  \\\n",
       "0                   0                              0   \n",
       "1                   1                              0   \n",
       "2                   1                              0   \n",
       "3                   1                              0   \n",
       "4                   1                              0   \n",
       "\n",
       "   loan_purpose_small_business  loan_purpose_vacation  loan_purpose_wedding  \\\n",
       "0                            0                      0                     0   \n",
       "1                            0                      0                     0   \n",
       "2                            0                      0                     0   \n",
       "3                            0                      0                     0   \n",
       "4                            0                      0                     0   \n",
       "\n",
       "   OTHER  OWN  RENT  Low  Medium  \n",
       "0      0    0     0    1       0  \n",
       "1      0    0     1    1       0  \n",
       "2      0    0     1    1       0  \n",
       "3      0    0     0    1       0  \n",
       "4      0    0     0    0       0  \n",
       "\n",
       "[5 rows x 38 columns]"
      ]
     },
     "execution_count": 82,
     "metadata": {},
     "output_type": "execute_result"
    }
   ],
   "source": [
    "df.head()"
   ]
  },
  {
   "cell_type": "markdown",
   "metadata": {},
   "source": [
    "---\n",
    "### DECISION TREE MODEL"
   ]
  },
  {
   "cell_type": "code",
   "execution_count": 83,
   "metadata": {},
   "outputs": [],
   "source": [
    "from sklearn.tree import DecisionTreeClassifier"
   ]
  },
  {
   "cell_type": "code",
   "execution_count": 84,
   "metadata": {},
   "outputs": [],
   "source": [
    "dtree = DecisionTreeClassifier()"
   ]
  },
  {
   "cell_type": "code",
   "execution_count": 85,
   "metadata": {},
   "outputs": [
    {
     "data": {
      "text/plain": [
       "DecisionTreeClassifier(class_weight=None, criterion='gini', max_depth=None,\n",
       "                       max_features=None, max_leaf_nodes=None,\n",
       "                       min_impurity_decrease=0.0, min_impurity_split=None,\n",
       "                       min_samples_leaf=1, min_samples_split=2,\n",
       "                       min_weight_fraction_leaf=0.0, presort=False,\n",
       "                       random_state=None, splitter='best')"
      ]
     },
     "execution_count": 85,
     "metadata": {},
     "output_type": "execute_result"
    }
   ],
   "source": [
    "dtree.fit(X_train,y_train)"
   ]
  },
  {
   "cell_type": "markdown",
   "metadata": {},
   "source": [
    "### Predictions and Evaluations of Decision Tree Model"
   ]
  },
  {
   "cell_type": "code",
   "execution_count": 86,
   "metadata": {},
   "outputs": [],
   "source": [
    "predictions = dtree.predict(X_test)"
   ]
  },
  {
   "cell_type": "code",
   "execution_count": 87,
   "metadata": {},
   "outputs": [],
   "source": [
    "from sklearn.metrics import classification_report,confusion_matrix"
   ]
  },
  {
   "cell_type": "code",
   "execution_count": 88,
   "metadata": {},
   "outputs": [
    {
     "name": "stdout",
     "output_type": "stream",
     "text": [
      "              precision    recall  f1-score   support\n",
      "\n",
      "           0       0.99      0.99      0.99    164024\n",
      "           1       0.84      0.85      0.84     13452\n",
      "\n",
      "    accuracy                           0.98    177476\n",
      "   macro avg       0.91      0.92      0.92    177476\n",
      "weighted avg       0.98      0.98      0.98    177476\n",
      "\n"
     ]
    }
   ],
   "source": [
    "print(classification_report(y_test,predictions))"
   ]
  },
  {
   "cell_type": "code",
   "execution_count": 89,
   "metadata": {},
   "outputs": [
    {
     "name": "stdout",
     "output_type": "stream",
     "text": [
      "[[161787   2237]\n",
      " [  2000  11452]]\n"
     ]
    }
   ],
   "source": [
    "print(confusion_matrix(y_test,predictions))"
   ]
  },
  {
   "cell_type": "markdown",
   "metadata": {},
   "source": [
    "---\n",
    "\n",
    "### RANDOM FOREST MODEL"
   ]
  },
  {
   "cell_type": "code",
   "execution_count": 90,
   "metadata": {},
   "outputs": [],
   "source": [
    "from sklearn.ensemble import RandomForestClassifier"
   ]
  },
  {
   "cell_type": "code",
   "execution_count": 91,
   "metadata": {},
   "outputs": [],
   "source": [
    "rfc = RandomForestClassifier(n_estimators=20)"
   ]
  },
  {
   "cell_type": "code",
   "execution_count": 92,
   "metadata": {},
   "outputs": [
    {
     "data": {
      "text/plain": [
       "RandomForestClassifier(bootstrap=True, class_weight=None, criterion='gini',\n",
       "                       max_depth=None, max_features='auto', max_leaf_nodes=None,\n",
       "                       min_impurity_decrease=0.0, min_impurity_split=None,\n",
       "                       min_samples_leaf=1, min_samples_split=2,\n",
       "                       min_weight_fraction_leaf=0.0, n_estimators=20,\n",
       "                       n_jobs=None, oob_score=False, random_state=None,\n",
       "                       verbose=0, warm_start=False)"
      ]
     },
     "execution_count": 92,
     "metadata": {},
     "output_type": "execute_result"
    }
   ],
   "source": [
    "rfc.fit(X_train,y_train)"
   ]
  },
  {
   "cell_type": "markdown",
   "metadata": {},
   "source": [
    "### Predictions and Evaluations of Random Forest Model"
   ]
  },
  {
   "cell_type": "code",
   "execution_count": 93,
   "metadata": {},
   "outputs": [],
   "source": [
    "predictions = rfc.predict(X_test)"
   ]
  },
  {
   "cell_type": "code",
   "execution_count": 94,
   "metadata": {},
   "outputs": [],
   "source": [
    "from sklearn.metrics import classification_report,confusion_matrix"
   ]
  },
  {
   "cell_type": "code",
   "execution_count": 95,
   "metadata": {},
   "outputs": [
    {
     "name": "stdout",
     "output_type": "stream",
     "text": [
      "              precision    recall  f1-score   support\n",
      "\n",
      "           0       0.98      1.00      0.99    164024\n",
      "           1       1.00      0.81      0.89     13452\n",
      "\n",
      "    accuracy                           0.99    177476\n",
      "   macro avg       0.99      0.91      0.94    177476\n",
      "weighted avg       0.99      0.99      0.98    177476\n",
      "\n"
     ]
    }
   ],
   "source": [
    "print(classification_report(y_test,predictions))"
   ]
  },
  {
   "cell_type": "code",
   "execution_count": 96,
   "metadata": {},
   "outputs": [
    {
     "name": "stdout",
     "output_type": "stream",
     "text": [
      "[[163988     36]\n",
      " [  2547  10905]]\n"
     ]
    }
   ],
   "source": [
    "print(confusion_matrix(y_test,predictions))"
   ]
  },
  {
   "cell_type": "markdown",
   "metadata": {},
   "source": [
    "---\n",
    "\n",
    "### LOGISTIC REGRESSION"
   ]
  },
  {
   "cell_type": "code",
   "execution_count": 97,
   "metadata": {},
   "outputs": [],
   "source": [
    "from sklearn.linear_model import LogisticRegression"
   ]
  },
  {
   "cell_type": "code",
   "execution_count": 98,
   "metadata": {},
   "outputs": [
    {
     "name": "stderr",
     "output_type": "stream",
     "text": [
      "/Users/sharathrajagopalan/opt/anaconda3/lib/python3.7/site-packages/sklearn/linear_model/logistic.py:432: FutureWarning: Default solver will be changed to 'lbfgs' in 0.22. Specify a solver to silence this warning.\n",
      "  FutureWarning)\n"
     ]
    },
    {
     "data": {
      "text/plain": [
       "LogisticRegression(C=1.0, class_weight=None, dual=False, fit_intercept=True,\n",
       "                   intercept_scaling=1, l1_ratio=None, max_iter=100,\n",
       "                   multi_class='warn', n_jobs=None, penalty='l2',\n",
       "                   random_state=None, solver='warn', tol=0.0001, verbose=0,\n",
       "                   warm_start=False)"
      ]
     },
     "execution_count": 98,
     "metadata": {},
     "output_type": "execute_result"
    }
   ],
   "source": [
    "logmodel = LogisticRegression()\n",
    "logmodel.fit(X_train,y_train)"
   ]
  },
  {
   "cell_type": "markdown",
   "metadata": {},
   "source": [
    "### Predictions and Evaluations of Logistic Regression Model"
   ]
  },
  {
   "cell_type": "code",
   "execution_count": 99,
   "metadata": {},
   "outputs": [],
   "source": [
    "predictions = logmodel.predict(X_test)"
   ]
  },
  {
   "cell_type": "code",
   "execution_count": 100,
   "metadata": {},
   "outputs": [],
   "source": [
    "from sklearn.metrics import classification_report"
   ]
  },
  {
   "cell_type": "code",
   "execution_count": 101,
   "metadata": {},
   "outputs": [
    {
     "name": "stdout",
     "output_type": "stream",
     "text": [
      "              precision    recall  f1-score   support\n",
      "\n",
      "           0       0.94      1.00      0.97    164024\n",
      "           1       0.96      0.29      0.44     13452\n",
      "\n",
      "    accuracy                           0.94    177476\n",
      "   macro avg       0.95      0.64      0.71    177476\n",
      "weighted avg       0.95      0.94      0.93    177476\n",
      "\n"
     ]
    }
   ],
   "source": [
    "print(classification_report(y_test,predictions))"
   ]
  },
  {
   "cell_type": "code",
   "execution_count": 102,
   "metadata": {},
   "outputs": [
    {
     "name": "stdout",
     "output_type": "stream",
     "text": [
      "[[163860    164]\n",
      " [  9612   3840]]\n"
     ]
    }
   ],
   "source": [
    "print(confusion_matrix(y_test,predictions))"
   ]
  },
  {
   "cell_type": "markdown",
   "metadata": {},
   "source": [
    "## END"
   ]
  }
 ],
 "metadata": {
  "kernelspec": {
   "display_name": "Python 3",
   "language": "python",
   "name": "python3"
  },
  "language_info": {
   "codemirror_mode": {
    "name": "ipython",
    "version": 3
   },
   "file_extension": ".py",
   "mimetype": "text/x-python",
   "name": "python",
   "nbconvert_exporter": "python",
   "pygments_lexer": "ipython3",
   "version": "3.7.4"
  }
 },
 "nbformat": 4,
 "nbformat_minor": 2
}
